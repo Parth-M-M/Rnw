{
 "cells": [
  {
   "cell_type": "code",
   "execution_count": 4,
   "id": "9a5ebbf0",
   "metadata": {},
   "outputs": [
    {
     "name": "stdout",
     "output_type": "stream",
     "text": [
      "You entered: 5\n",
      "You entered: 6\n",
      "You entered: 7\n",
      "You entered: 5\n",
      "You entered: 3\n",
      "You entered: 4\n",
      "You entered: 5\n"
     ]
    }
   ],
   "source": [
    "while True:\n",
    "    number = int(input(\"Enter Number: \"))\n",
    "    if number == 0:\n",
    "        break\n",
    "    else:\n",
    "        print(f\"You entered: {number}\")\n"
   ]
  },
  {
   "cell_type": "code",
   "execution_count": null,
   "id": "48ef2c60",
   "metadata": {},
   "outputs": [],
   "source": []
  }
 ],
 "metadata": {
  "kernelspec": {
   "display_name": "parth",
   "language": "python",
   "name": "python3"
  },
  "language_info": {
   "codemirror_mode": {
    "name": "ipython",
    "version": 3
   },
   "file_extension": ".py",
   "mimetype": "text/x-python",
   "name": "python",
   "nbconvert_exporter": "python",
   "pygments_lexer": "ipython3",
   "version": "3.13.3"
  }
 },
 "nbformat": 4,
 "nbformat_minor": 5
}
