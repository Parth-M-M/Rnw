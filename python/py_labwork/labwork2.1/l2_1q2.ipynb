{
 "cells": [
  {
   "cell_type": "code",
   "execution_count": null,
   "id": "2dc983b4",
   "metadata": {},
   "outputs": [],
   "source": [
    "age = int(input(\"Enter your age: \"))"
   ]
  },
  {
   "cell_type": "code",
   "execution_count": null,
   "id": "b1f46f3c",
   "metadata": {},
   "outputs": [
    {
     "name": "stdout",
     "output_type": "stream",
     "text": [
      "You are in a Adult category\n"
     ]
    }
   ],
   "source": [
    "if age >= 0:\n",
    "    if age <= 12:\n",
    "        print(\"You are in a Child category\")\n",
    "    else:\n",
    "        if age <= 19:\n",
    "            print(\"You are in a Teenager category\")\n",
    "        else:\n",
    "            if age <= 59:\n",
    "                print(\"You are in a Adult category\")\n",
    "            else:\n",
    "                print(\"You are in a Senior category\")\n",
    "else:\n",
    "    print(\"Invalid age. Age cannot be negative.\")\n"
   ]
  }
 ],
 "metadata": {
  "kernelspec": {
   "display_name": "parth",
   "language": "python",
   "name": "python3"
  },
  "language_info": {
   "codemirror_mode": {
    "name": "ipython",
    "version": 3
   },
   "file_extension": ".py",
   "mimetype": "text/x-python",
   "name": "python",
   "nbconvert_exporter": "python",
   "pygments_lexer": "ipython3",
   "version": "3.13.3"
  }
 },
 "nbformat": 4,
 "nbformat_minor": 5
}
