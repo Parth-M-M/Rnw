{
 "cells": [
  {
   "cell_type": "code",
   "execution_count": 1,
   "id": "0134e798",
   "metadata": {},
   "outputs": [],
   "source": [
    "first_user = int(input(\"Enter first input : \"))\n",
    "second_user = int(input(\"Enter second input : \"))\n",
    "user_operation =input(\"Enter Operation ('+' , '-' , '*' , '/' )\")"
   ]
  },
  {
   "cell_type": "code",
   "execution_count": 3,
   "id": "8df0f49d",
   "metadata": {},
   "outputs": [
    {
     "name": "stdout",
     "output_type": "stream",
     "text": [
      "69\n"
     ]
    }
   ],
   "source": [
    "\n",
    "match user_operation :\n",
    "    case '+' :\n",
    "        print(f\"{first_user + second_user}\")\n",
    "    case '-' :\n",
    "        print(f\"{first_user - second_user}\")\n",
    "    case '*' :\n",
    "        print(f\"{first_user * second_user}\")\n",
    "    case '/' :\n",
    "        print(f\"{first_user / second_user}\")\n",
    "    "
   ]
  }
 ],
 "metadata": {
  "kernelspec": {
   "display_name": "parth",
   "language": "python",
   "name": "python3"
  },
  "language_info": {
   "codemirror_mode": {
    "name": "ipython",
    "version": 3
   },
   "file_extension": ".py",
   "mimetype": "text/x-python",
   "name": "python",
   "nbconvert_exporter": "python",
   "pygments_lexer": "ipython3",
   "version": "3.13.3"
  }
 },
 "nbformat": 4,
 "nbformat_minor": 5
}
