{
 "cells": [
  {
   "cell_type": "code",
   "execution_count": 4,
   "id": "c20c6e62",
   "metadata": {},
   "outputs": [
    {
     "name": "stdout",
     "output_type": "stream",
     "text": [
      "1 divisible by both 2 and 3 \n",
      "2 divisible by 2\n",
      "3 divisible by 3\n",
      "4 divisible by 2\n",
      "6 divisible by 2\n",
      "7 divisible by both 2 and 3 \n",
      "8 divisible by 2\n",
      "9 divisible by 3\n",
      "10 divisible by 2\n",
      "12 divisible by 2\n",
      "13 divisible by both 2 and 3 \n",
      "14 divisible by 2\n",
      "15 divisible by 3\n",
      "16 divisible by 2\n",
      "18 divisible by 2\n",
      "19 divisible by both 2 and 3 \n",
      "20 divisible by 2\n",
      "21 divisible by 3\n",
      "22 divisible by 2\n",
      "24 divisible by 2\n",
      "25 divisible by both 2 and 3 \n",
      "26 divisible by 2\n",
      "27 divisible by 3\n",
      "28 divisible by 2\n",
      "30 divisible by 2\n",
      "31 divisible by both 2 and 3 \n",
      "32 divisible by 2\n",
      "33 divisible by 3\n",
      "34 divisible by 2\n",
      "36 divisible by 2\n",
      "37 divisible by both 2 and 3 \n",
      "38 divisible by 2\n",
      "39 divisible by 3\n",
      "40 divisible by 2\n",
      "42 divisible by 2\n",
      "43 divisible by both 2 and 3 \n",
      "44 divisible by 2\n",
      "45 divisible by 3\n",
      "46 divisible by 2\n",
      "48 divisible by 2\n",
      "49 divisible by both 2 and 3 \n",
      "50 divisible by 2\n"
     ]
    }
   ],
   "source": [
    "for i in range(1,51,1) :\n",
    "    a = i % 2\n",
    "    b = i % 3\n",
    "    if a and b == 1 :\n",
    "        print(f\"{i} divisible by both 2 and 3 \")\n",
    "    elif a == 0 :\n",
    "        print(f\"{i} divisible by 2\")\n",
    "    elif b == 0 :\n",
    "        print(f\"{i} divisible by 3\")"
   ]
  },
  {
   "cell_type": "code",
   "execution_count": null,
   "id": "5c07ea65",
   "metadata": {},
   "outputs": [],
   "source": []
  }
 ],
 "metadata": {
  "kernelspec": {
   "display_name": "parth",
   "language": "python",
   "name": "python3"
  },
  "language_info": {
   "codemirror_mode": {
    "name": "ipython",
    "version": 3
   },
   "file_extension": ".py",
   "mimetype": "text/x-python",
   "name": "python",
   "nbconvert_exporter": "python",
   "pygments_lexer": "ipython3",
   "version": "3.13.3"
  }
 },
 "nbformat": 4,
 "nbformat_minor": 5
}
