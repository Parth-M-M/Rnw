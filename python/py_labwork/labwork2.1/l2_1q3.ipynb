{
 "cells": [
  {
   "cell_type": "code",
   "execution_count": 5,
   "id": "99ba7c27",
   "metadata": {},
   "outputs": [
    {
     "data": {
      "text/plain": [
       "45"
      ]
     },
     "execution_count": 5,
     "metadata": {},
     "output_type": "execute_result"
    }
   ],
   "source": [
    "first_input = int(input(\"Enter first number : \"))\n",
    "first_input"
   ]
  },
  {
   "cell_type": "code",
   "execution_count": 6,
   "id": "7c753f69",
   "metadata": {},
   "outputs": [
    {
     "data": {
      "text/plain": [
       "34"
      ]
     },
     "execution_count": 6,
     "metadata": {},
     "output_type": "execute_result"
    }
   ],
   "source": [
    "second_input = int(input(\"Enter second number : \"))\n",
    "second_input"
   ]
  },
  {
   "cell_type": "code",
   "execution_count": 7,
   "id": "682e590f",
   "metadata": {},
   "outputs": [
    {
     "data": {
      "text/plain": [
       "23"
      ]
     },
     "execution_count": 7,
     "metadata": {},
     "output_type": "execute_result"
    }
   ],
   "source": [
    "third_input = int(input(\"Enter Third number : \"))\n",
    "third_input"
   ]
  },
  {
   "cell_type": "code",
   "execution_count": 8,
   "id": "6e4a3f37",
   "metadata": {},
   "outputs": [
    {
     "name": "stdout",
     "output_type": "stream",
     "text": [
      "45 is largest number\n"
     ]
    }
   ],
   "source": [
    "if(first_input >= second_input ):\n",
    "    if(first_input >= third_input):\n",
    "        print(f\"{first_input} is largest number\")\n",
    "    else:\n",
    "        print(f\"{third_input} is largest number\")\n",
    "elif(second_input >= third_input):\n",
    "    print(f\"{second_input} is the largest number\")\n",
    "else:\n",
    "    print(f\"{third_input} is the largest number\")"
   ]
  },
  {
   "cell_type": "code",
   "execution_count": null,
   "id": "68a6041d",
   "metadata": {},
   "outputs": [],
   "source": []
  }
 ],
 "metadata": {
  "kernelspec": {
   "display_name": "parth",
   "language": "python",
   "name": "python3"
  },
  "language_info": {
   "codemirror_mode": {
    "name": "ipython",
    "version": 3
   },
   "file_extension": ".py",
   "mimetype": "text/x-python",
   "name": "python",
   "nbconvert_exporter": "python",
   "pygments_lexer": "ipython3",
   "version": "3.13.3"
  }
 },
 "nbformat": 4,
 "nbformat_minor": 5
}
