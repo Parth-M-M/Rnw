{
 "cells": [
  {
   "cell_type": "code",
   "execution_count": 27,
   "id": "6132ab6e",
   "metadata": {},
   "outputs": [
    {
     "name": "stdout",
     "output_type": "stream",
     "text": [
      "Welcome to the Interactive Personal Data Collector!\n",
      "Thank you! Here is the information we collected: \n",
      "Name : parth ( Type :  <class 'str'> , Memory Address :  1979684779376 )\n",
      "Age :  22 ( Type :  <class 'int'> , Memory address :  140729472656968 )\n",
      "height :  1.82 ( Type :  <class 'float'> , Memory address :  1979663290640 )\n",
      "Favourite number :  26 ( Type :  <class 'str'> , Memory address :  1979684776736 )\n",
      "Your birth year is approximately: 2003 (based on your age of 22 )\n",
      "Thank you for using the Personal Data Collector. Goodbye!\n"
     ]
    }
   ],
   "source": [
    "print(\"Welcome to the Interactive Personal Data Collector!\")\n",
    "\n",
    "name = input(\"please enter your name: \")\n",
    "age = int(input(\"Please enter your age: \"))\n",
    "height = float(input(\"Please enter your height in meters: \"))\n",
    "number = input(\"Please enter your favourite number: \")\n",
    "\n",
    "print(\"Thank you! Here is the information we collected: \")\n",
    "\n",
    "print(\"Name :\",name,\"( Type : \",type(name),\", Memory Address : \",id(name),\")\")\n",
    "print(\"Age : \",age,\"( Type : \",type(age),\", Memory address : \",id(age),\")\")\n",
    "print(\"height : \",height,\"( Type : \",type(height),\", Memory address : \",id(height),\")\")\n",
    "print(\"Favourite number : \",number,\"( Type : \",type(number),\", Memory address : \",id(number),\")\")\n",
    "\n",
    "\n",
    "berth_year = 2025 - age\n",
    "\n",
    "\n",
    "print(\"Your birth year is approximately:\",berth_year,\"(based on your age of\",age,\")\")\n",
    "print(\"Thank you for using the Personal Data Collector. Goodbye!\")\n"
   ]
  },
  {
   "cell_type": "code",
   "execution_count": null,
   "id": "0a16edfe",
   "metadata": {},
   "outputs": [],
   "source": []
  }
 ],
 "metadata": {
  "kernelspec": {
   "display_name": "parth",
   "language": "python",
   "name": "python3"
  },
  "language_info": {
   "codemirror_mode": {
    "name": "ipython",
    "version": 3
   },
   "file_extension": ".py",
   "mimetype": "text/x-python",
   "name": "python",
   "nbconvert_exporter": "python",
   "pygments_lexer": "ipython3",
   "version": "3.13.3"
  }
 },
 "nbformat": 4,
 "nbformat_minor": 5
}
