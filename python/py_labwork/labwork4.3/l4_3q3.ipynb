{
 "cells": [
  {
   "cell_type": "code",
   "execution_count": null,
   "id": "4e9a7c28",
   "metadata": {},
   "outputs": [
    {
     "name": "stdout",
     "output_type": "stream",
     "text": [
      "Enter elements for a 2x3 matrix:\n",
      "\n",
      "Original 2x3 Matrix:\n",
      "  1   2   3 \n",
      "  4   5   6 \n",
      "\n",
      "Transposed 3x2 Matrix:\n",
      "  1   4 \n",
      "  2   5 \n",
      "  3   6 \n"
     ]
    }
   ],
   "source": [
    "rows, cols = 2, 3\n",
    "matrix = []\n",
    "\n",
    "print(\"Enter elements for a 2x3 matrix:\")\n",
    "for i in range(rows):\n",
    "    row = []\n",
    "    for j in range(cols):\n",
    "        value = int(input(f\"Enter element at position [{i}][{j}]: \"))\n",
    "        row.append(value)\n",
    "    matrix.append(row)\n",
    "\n",
    "print(\"\\nOriginal 2x3 Matrix:\")\n",
    "for row in matrix:\n",
    "    for item in row:\n",
    "        print(f\"{item:3}\", end=\" \")\n",
    "    print()\n",
    "\n",
    "transpose = []\n",
    "for j in range(cols):\n",
    "    transposed_row = []\n",
    "    for i in range(rows):\n",
    "        transposed_row.append(matrix[i][j])\n",
    "    transpose.append(transposed_row)\n",
    "\n",
    "print(\"\\nTransposed 3x2 Matrix:\")\n",
    "for row in transpose:\n",
    "    for item in row:\n",
    "        print(f\"{item:3}\", end=\" \")\n",
    "    print()\n"
   ]
  },
  {
   "cell_type": "code",
   "execution_count": null,
   "id": "4f601e1a",
   "metadata": {},
   "outputs": [],
   "source": []
  }
 ],
 "metadata": {
  "kernelspec": {
   "display_name": "parth",
   "language": "python",
   "name": "python3"
  },
  "language_info": {
   "codemirror_mode": {
    "name": "ipython",
    "version": 3
   },
   "file_extension": ".py",
   "mimetype": "text/x-python",
   "name": "python",
   "nbconvert_exporter": "python",
   "pygments_lexer": "ipython3",
   "version": "3.13.3"
  }
 },
 "nbformat": 4,
 "nbformat_minor": 5
}
