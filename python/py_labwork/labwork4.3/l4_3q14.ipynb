{
 "cells": [
  {
   "cell_type": "code",
   "execution_count": 2,
   "id": "28a593ac",
   "metadata": {},
   "outputs": [
    {
     "name": "stdout",
     "output_type": "stream",
     "text": [
      "Sorted by age:\n",
      "{'name': 'Bob', 'id': 25}\n",
      "{'name': 'Alice', 'id': 30}\n",
      "{'name': 'Charlie', 'id': 35}\n"
     ]
    }
   ],
   "source": [
    "people = [\n",
    "    {\"name\": \"Alice\", \"id\": 30},\n",
    "    {\"name\": \"Bob\", \"id\": 25},\n",
    "    {\"name\": \"Charlie\", \"id\": 35}\n",
    "]\n",
    "\n",
    "sorted_people = sorted(people, key=lambda person: person['id'])\n",
    "\n",
    "print(\"Sorted by age:\")\n",
    "for person in sorted_people:\n",
    "    print(person)"
   ]
  },
  {
   "cell_type": "code",
   "execution_count": null,
   "id": "7a9a8be9",
   "metadata": {},
   "outputs": [],
   "source": []
  }
 ],
 "metadata": {
  "kernelspec": {
   "display_name": "parth",
   "language": "python",
   "name": "python3"
  },
  "language_info": {
   "codemirror_mode": {
    "name": "ipython",
    "version": 3
   },
   "file_extension": ".py",
   "mimetype": "text/x-python",
   "name": "python",
   "nbconvert_exporter": "python",
   "pygments_lexer": "ipython3",
   "version": "3.13.3"
  }
 },
 "nbformat": 4,
 "nbformat_minor": 5
}
