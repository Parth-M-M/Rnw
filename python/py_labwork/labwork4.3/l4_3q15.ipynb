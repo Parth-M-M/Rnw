{
 "cells": [
  {
   "cell_type": "code",
   "execution_count": 4,
   "id": "bc898be1",
   "metadata": {},
   "outputs": [],
   "source": [
    "my_list = [1,2,3,1,4,2,5,6,3,7,4,8,5,9,2,5,6,8,7]\n"
   ]
  },
  {
   "cell_type": "code",
   "execution_count": 5,
   "id": "aeb1e1e1",
   "metadata": {},
   "outputs": [
    {
     "name": "stdout",
     "output_type": "stream",
     "text": [
      "[1, 1, 2, 2, 2, 3, 3, 4, 4, 5, 5, 5, 6, 6, 7, 7, 8, 8, 9] [1, 2, 3, 1, 4, 2, 5, 6, 3, 7, 4, 8, 5, 9, 2, 5, 6, 8, 7]\n"
     ]
    }
   ],
   "source": [
    "my_new_list  = sorted(my_list)\n",
    "print(my_new_list,my_list)"
   ]
  },
  {
   "cell_type": "code",
   "execution_count": null,
   "id": "a0246a10",
   "metadata": {},
   "outputs": [
    {
     "data": {
      "text/plain": [
       "[1, 1, 2, 2, 2, 3, 3, 4, 4, 5, 5, 5, 6, 6, 7, 7, 8, 8, 9]"
      ]
     },
     "execution_count": 6,
     "metadata": {},
     "output_type": "execute_result"
    }
   ],
   "source": [
    "my_list.sort()\n",
    "print(my_list)"
   ]
  },
  {
   "cell_type": "code",
   "execution_count": null,
   "id": "679fe867",
   "metadata": {},
   "outputs": [],
   "source": []
  },
  {
   "cell_type": "code",
   "execution_count": null,
   "id": "132e874c",
   "metadata": {},
   "outputs": [],
   "source": []
  }
 ],
 "metadata": {
  "kernelspec": {
   "display_name": "parth",
   "language": "python",
   "name": "python3"
  },
  "language_info": {
   "codemirror_mode": {
    "name": "ipython",
    "version": 3
   },
   "file_extension": ".py",
   "mimetype": "text/x-python",
   "name": "python",
   "nbconvert_exporter": "python",
   "pygments_lexer": "ipython3",
   "version": "3.13.3"
  }
 },
 "nbformat": 4,
 "nbformat_minor": 5
}
