{
 "cells": [
  {
   "cell_type": "code",
   "execution_count": 5,
   "id": "1bf7ab70",
   "metadata": {},
   "outputs": [
    {
     "name": "stdout",
     "output_type": "stream",
     "text": [
      "Enter the elements row by row:\n",
      "\n",
      "The 2D list is:\n",
      "[1, 2, 3]\n",
      "[4, 5, 6]\n",
      "[7, 8, 9]\n",
      "The Maximum number is :9\n",
      "The Minimun number is :1\n"
     ]
    }
   ],
   "source": [
    "rows = int(input(\"Enter number of rows: \"))\n",
    "cols = int(input(\"Enter number of columns: \"))\n",
    "data = []\n",
    "print(\"Enter the elements row by row:\")\n",
    "for i in range(rows):\n",
    "    row = []\n",
    "    for j in range(cols):\n",
    "        value = input(f\"Enter element at row {i+1}, column {j+1}: \")\n",
    "        row.append(int(value))\n",
    "    data.append(row)\n",
    "print(\"\\nThe 2D list is:\")\n",
    "for row in data:\n",
    "    print(row)\n",
    "\n",
    "max_n = 0\n",
    "min_n = 99999999999\n",
    "for i in data :\n",
    "    for j in i :\n",
    "        if max_n >= j :\n",
    "            pass    \n",
    "        else :\n",
    "                max_n = j\n",
    "        if min_n <= j :\n",
    "             pass\n",
    "        else :\n",
    "             min_n = j\n",
    "\n",
    "print(f\"The Maximum number is :{max_n}\")\n",
    "print(f\"The Minimun number is :{min_n}\")"
   ]
  },
  {
   "cell_type": "code",
   "execution_count": null,
   "id": "cdb640a5",
   "metadata": {},
   "outputs": [
    {
     "data": {
      "text/plain": [
       "1"
      ]
     },
     "execution_count": 4,
     "metadata": {},
     "output_type": "execute_result"
    }
   ],
   "source": [
    "\n",
    "\n"
   ]
  },
  {
   "cell_type": "code",
   "execution_count": null,
   "id": "1ba515f8",
   "metadata": {},
   "outputs": [],
   "source": []
  }
 ],
 "metadata": {
  "kernelspec": {
   "display_name": "parth",
   "language": "python",
   "name": "python3"
  },
  "language_info": {
   "codemirror_mode": {
    "name": "ipython",
    "version": 3
   },
   "file_extension": ".py",
   "mimetype": "text/x-python",
   "name": "python",
   "nbconvert_exporter": "python",
   "pygments_lexer": "ipython3",
   "version": "3.13.3"
  }
 },
 "nbformat": 4,
 "nbformat_minor": 5
}
