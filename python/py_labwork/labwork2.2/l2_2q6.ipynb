{
 "cells": [
  {
   "cell_type": "code",
   "execution_count": 1,
   "id": "cc138a8f",
   "metadata": {},
   "outputs": [
    {
     "name": "stdout",
     "output_type": "stream",
     "text": [
      "['hi', 'i', 'am', 'parth', 'mangroliya', 'i', 'am', 'in', 'surat']\n",
      "['i', 'am', 'i', 'am', 'in']\n"
     ]
    }
   ],
   "source": [
    "words = []\n",
    "while True:\n",
    "    word = input(\"Enter Word: \")\n",
    "    if word.lower() == \"exit\":\n",
    "        break\n",
    "    words.append(word)\n",
    "\n",
    "print(words)\n",
    "\n",
    "vowel_words = [word for word in words if word and word[0].lower() in 'aeiou']\n",
    "print(vowel_words)\n",
    "\n"
   ]
  },
  {
   "cell_type": "code",
   "execution_count": null,
   "id": "a4bf8951",
   "metadata": {},
   "outputs": [],
   "source": []
  }
 ],
 "metadata": {
  "kernelspec": {
   "display_name": "parth",
   "language": "python",
   "name": "python3"
  },
  "language_info": {
   "codemirror_mode": {
    "name": "ipython",
    "version": 3
   },
   "file_extension": ".py",
   "mimetype": "text/x-python",
   "name": "python",
   "nbconvert_exporter": "python",
   "pygments_lexer": "ipython3",
   "version": "3.13.3"
  }
 },
 "nbformat": 4,
 "nbformat_minor": 5
}
