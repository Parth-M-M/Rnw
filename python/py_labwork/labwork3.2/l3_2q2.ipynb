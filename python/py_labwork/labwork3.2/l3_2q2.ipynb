{
 "cells": [
  {
   "cell_type": "code",
   "execution_count": 4,
   "id": "337eba39",
   "metadata": {},
   "outputs": [
    {
     "data": {
      "text/plain": [
       "{'Name': 'Parth', 'age': 23, 'city': 'surat'}"
      ]
     },
     "execution_count": 4,
     "metadata": {},
     "output_type": "execute_result"
    }
   ],
   "source": [
    "my_dictionary = {}\n",
    "my_dictionary[\"Name\"]= \"Parth\"\n",
    "my_dictionary[\"age\"] = 23\n",
    "my_dictionary[\"city\"] = \"surat\"\n",
    "my_dictionary"
   ]
  },
  {
   "cell_type": "code",
   "execution_count": 11,
   "id": "f93a0eb8",
   "metadata": {},
   "outputs": [],
   "source": [
    "my_dictionary.update({\"country\":\"india\"})"
   ]
  },
  {
   "cell_type": "code",
   "execution_count": 12,
   "id": "566c398c",
   "metadata": {},
   "outputs": [
    {
     "data": {
      "text/plain": [
       "{'Name': 'Parth', 'age': 23, 'city': 'surat', 'country': 'india'}"
      ]
     },
     "execution_count": 12,
     "metadata": {},
     "output_type": "execute_result"
    }
   ],
   "source": [
    "my_dictionary"
   ]
  },
  {
   "cell_type": "code",
   "execution_count": 13,
   "id": "c6264c58",
   "metadata": {},
   "outputs": [
    {
     "data": {
      "text/plain": [
       "23"
      ]
     },
     "execution_count": 13,
     "metadata": {},
     "output_type": "execute_result"
    }
   ],
   "source": [
    "my_dictionary.pop(\"age\")"
   ]
  },
  {
   "cell_type": "code",
   "execution_count": 14,
   "id": "f4d13cb5",
   "metadata": {},
   "outputs": [
    {
     "data": {
      "text/plain": [
       "{'Name': 'Parth', 'city': 'surat', 'country': 'india'}"
      ]
     },
     "execution_count": 14,
     "metadata": {},
     "output_type": "execute_result"
    }
   ],
   "source": [
    "my_dictionary"
   ]
  },
  {
   "cell_type": "code",
   "execution_count": null,
   "id": "2e35844c",
   "metadata": {},
   "outputs": [],
   "source": []
  }
 ],
 "metadata": {
  "kernelspec": {
   "display_name": "parth",
   "language": "python",
   "name": "python3"
  },
  "language_info": {
   "codemirror_mode": {
    "name": "ipython",
    "version": 3
   },
   "file_extension": ".py",
   "mimetype": "text/x-python",
   "name": "python",
   "nbconvert_exporter": "python",
   "pygments_lexer": "ipython3",
   "version": "3.13.3"
  }
 },
 "nbformat": 4,
 "nbformat_minor": 5
}
