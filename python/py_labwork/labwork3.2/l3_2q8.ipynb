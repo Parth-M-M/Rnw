{
 "cells": [
  {
   "cell_type": "code",
   "execution_count": 10,
   "id": "a0b01aba",
   "metadata": {},
   "outputs": [],
   "source": [
    "length = int(input(\"Enter length of Rectangle\"))\n",
    "breath = int(input(\"Enter breath of rectangle\"))"
   ]
  },
  {
   "cell_type": "code",
   "execution_count": 12,
   "id": "df067040",
   "metadata": {},
   "outputs": [
    {
     "name": "stdout",
     "output_type": "stream",
     "text": [
      "Area of rectangle 50\n"
     ]
    }
   ],
   "source": [
    "area = length*breath\n",
    "print(f\"Area of rectangle {area}\")"
   ]
  },
  {
   "cell_type": "code",
   "execution_count": null,
   "id": "1ed38e6d",
   "metadata": {},
   "outputs": [
    {
     "data": {
      "text/plain": [
       "'\\nin first cell we have asked length and breath \\n'"
      ]
     },
     "execution_count": 13,
     "metadata": {},
     "output_type": "execute_result"
    }
   ],
   "source": [
    "\"\"\"\n",
    "in first cell we have asked length and breath \n",
    "in second cell we have calculated the area of rectangle \n",
    "and printed it \n",
    "\"\"\""
   ]
  },
  {
   "cell_type": "code",
   "execution_count": null,
   "id": "d05fb3c2",
   "metadata": {},
   "outputs": [],
   "source": []
  }
 ],
 "metadata": {
  "kernelspec": {
   "display_name": "parth",
   "language": "python",
   "name": "python3"
  },
  "language_info": {
   "codemirror_mode": {
    "name": "ipython",
    "version": 3
   },
   "file_extension": ".py",
   "mimetype": "text/x-python",
   "name": "python",
   "nbconvert_exporter": "python",
   "pygments_lexer": "ipython3",
   "version": "3.13.3"
  }
 },
 "nbformat": 4,
 "nbformat_minor": 5
}
