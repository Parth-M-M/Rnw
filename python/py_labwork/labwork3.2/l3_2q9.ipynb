{
 "cells": [
  {
   "cell_type": "code",
   "execution_count": null,
   "id": "ea023eb5",
   "metadata": {},
   "outputs": [
    {
     "name": "stdout",
     "output_type": "stream",
     "text": [
      "Original List: [1, 2, 3, 4, 2, 3]\n",
      "Set from List: {1, 2, 3, 4}\n",
      "Tuple from List: (1, 2, 3, 4, 2, 3)\n",
      "\n",
      "Explanation:\n",
      "- Converting list to set removes duplicates and makes elements unordered.\n",
      "- Converting list to tuple keeps all elements (including duplicates) and preserves order.\n",
      "\n",
      "Original Tuple: (5, 6, 7, 5)\n",
      "List from Tuple: [5, 6, 7, 5]\n",
      "\n",
      "Explanation:\n",
      "- Converting tuple to list preserves order and duplicates. Lists are mutable, unlike tuples.\n",
      "\n",
      "Original Set: {8, 9, 10}\n",
      "List from Set: [8, 9, 10]\n",
      "Tuple from Set: (8, 9, 10)\n",
      "\n",
      "Explanation:\n",
      "- Converting set to list or tuple results in an unordered collection of unique elements.\n",
      "- The order in the result depends on the internal ordering of the set (which is arbitrary).\n"
     ]
    }
   ],
   "source": [
    "sample_list = [1, 2, 3, 4, 2, 3]\n",
    "sample_tuple = (5, 6, 7, 5)\n",
    "sample_set = {8, 9, 10}\n",
    "\n",
    "converted_set_from_list = set(sample_list)\n",
    "converted_tuple_from_list = tuple(sample_list)\n",
    "\n",
    "print(\"Original List:\", sample_list)\n",
    "print(\"Set from List:\", converted_set_from_list)\n",
    "print(\"Tuple from List:\", converted_tuple_from_list)\n",
    "\n",
    "print(\"\\nExplanation:\")\n",
    "print(\"- Converting list to set removes duplicates and makes elements unordered.\")\n",
    "print(\"- Converting list to tuple keeps all elements (including duplicates) and preserves order.\")\n",
    "\n",
    "converted_list_from_tuple = list(sample_tuple)\n",
    "\n",
    "print(\"\\nOriginal Tuple:\", sample_tuple)\n",
    "print(\"List from Tuple:\", converted_list_from_tuple)\n",
    "\n",
    "print(\"\\nExplanation:\")\n",
    "print(\"- Converting tuple to list preserves order and duplicates. Lists are mutable, unlike tuples.\")\n",
    "\n",
    "converted_list_from_set = list(sample_set)\n",
    "converted_tuple_from_set = tuple(sample_set)\n",
    "\n",
    "print(\"\\nOriginal Set:\", sample_set)\n",
    "print(\"List from Set:\", converted_list_from_set)\n",
    "print(\"Tuple from Set:\", converted_tuple_from_set)\n",
    "\n",
    "\n",
    "print(\"\\nExplanation:\")\n",
    "print(\"- Converting set to list or tuple results in an unordered collection of unique elements.\")\n",
    "print(\"- The order in the result depends on the internal ordering of the set (which is arbitrary).\")\n"
   ]
  },
  {
   "cell_type": "code",
   "execution_count": null,
   "id": "4f145e76",
   "metadata": {},
   "outputs": [],
   "source": []
  }
 ],
 "metadata": {
  "kernelspec": {
   "display_name": "parth",
   "language": "python",
   "name": "python3"
  },
  "language_info": {
   "codemirror_mode": {
    "name": "ipython",
    "version": 3
   },
   "file_extension": ".py",
   "mimetype": "text/x-python",
   "name": "python",
   "nbconvert_exporter": "python",
   "pygments_lexer": "ipython3",
   "version": "3.13.3"
  }
 },
 "nbformat": 4,
 "nbformat_minor": 5
}
