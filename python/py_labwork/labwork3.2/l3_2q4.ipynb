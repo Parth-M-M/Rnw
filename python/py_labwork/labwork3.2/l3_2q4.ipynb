{
 "cells": [
  {
   "cell_type": "code",
   "execution_count": 8,
   "id": "dd24f812",
   "metadata": {},
   "outputs": [],
   "source": [
    "products = {\n",
    "    \"Laptop\": 1200,\n",
    "    \"Smartphone\": 800,\n",
    "    \"Headphones\": 150,\n",
    "    \"Monitor\": 300,\n",
    "    \"Keyboard\": 100\n",
    "}\n",
    "\n"
   ]
  },
  {
   "cell_type": "code",
   "execution_count": 9,
   "id": "c2269b14",
   "metadata": {},
   "outputs": [
    {
     "data": {
      "text/plain": [
       "'Laptop'"
      ]
     },
     "execution_count": 9,
     "metadata": {},
     "output_type": "execute_result"
    }
   ],
   "source": [
    "h_product = max(products,key=products.get)\n",
    "h_product"
   ]
  },
  {
   "cell_type": "code",
   "execution_count": 10,
   "id": "8a494425",
   "metadata": {},
   "outputs": [
    {
     "name": "stdout",
     "output_type": "stream",
     "text": [
      "Product with the highest price:\n"
     ]
    }
   ],
   "source": [
    "\n",
    "print(\"Product with the highest price:\")\n"
   ]
  },
  {
   "cell_type": "code",
   "execution_count": 11,
   "id": "a891a825",
   "metadata": {},
   "outputs": [
    {
     "name": "stdout",
     "output_type": "stream",
     "text": [
      "Laptop: $1200\n"
     ]
    }
   ],
   "source": [
    "print(f\"{h_product}: ${products[h_product]}\")"
   ]
  },
  {
   "cell_type": "code",
   "execution_count": null,
   "id": "a09e82f0",
   "metadata": {},
   "outputs": [],
   "source": []
  }
 ],
 "metadata": {
  "kernelspec": {
   "display_name": "parth",
   "language": "python",
   "name": "python3"
  },
  "language_info": {
   "codemirror_mode": {
    "name": "ipython",
    "version": 3
   },
   "file_extension": ".py",
   "mimetype": "text/x-python",
   "name": "python",
   "nbconvert_exporter": "python",
   "pygments_lexer": "ipython3",
   "version": "3.13.3"
  }
 },
 "nbformat": 4,
 "nbformat_minor": 5
}
