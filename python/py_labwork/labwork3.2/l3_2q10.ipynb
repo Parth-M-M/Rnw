{
 "cells": [
  {
   "cell_type": "code",
   "execution_count": 1,
   "id": "54d9b3f5",
   "metadata": {},
   "outputs": [],
   "source": [
    "user_input = input(\"Enter number seperated by comma ','\")"
   ]
  },
  {
   "cell_type": "code",
   "execution_count": 5,
   "id": "8afed888",
   "metadata": {},
   "outputs": [
    {
     "data": {
      "text/plain": [
       "['1', '2', '3', '4', '5', '6', '7', '8', '9']"
      ]
     },
     "execution_count": 5,
     "metadata": {},
     "output_type": "execute_result"
    }
   ],
   "source": [
    "my_list = user_input.split(\",\")\n",
    "my_list"
   ]
  },
  {
   "cell_type": "code",
   "execution_count": 11,
   "id": "e829a2fa",
   "metadata": {},
   "outputs": [
    {
     "data": {
      "text/plain": [
       "{'1', '2', '3', '4', '5', '6', '7', '8', '9'}"
      ]
     },
     "execution_count": 11,
     "metadata": {},
     "output_type": "execute_result"
    }
   ],
   "source": [
    "my_set = set(my_list)\n",
    "my_set\n"
   ]
  },
  {
   "cell_type": "code",
   "execution_count": 12,
   "id": "5b595d4b",
   "metadata": {},
   "outputs": [
    {
     "data": {
      "text/plain": [
       "('7', '4', '5', '3', '2', '1', '6', '8', '9')"
      ]
     },
     "execution_count": 12,
     "metadata": {},
     "output_type": "execute_result"
    }
   ],
   "source": [
    "my_tupple = tuple(my_set)\n",
    "my_tupple"
   ]
  },
  {
   "cell_type": "code",
   "execution_count": null,
   "id": "d4857dad",
   "metadata": {},
   "outputs": [],
   "source": []
  }
 ],
 "metadata": {
  "kernelspec": {
   "display_name": "parth",
   "language": "python",
   "name": "python3"
  },
  "language_info": {
   "codemirror_mode": {
    "name": "ipython",
    "version": 3
   },
   "file_extension": ".py",
   "mimetype": "text/x-python",
   "name": "python",
   "nbconvert_exporter": "python",
   "pygments_lexer": "ipython3",
   "version": "3.13.3"
  }
 },
 "nbformat": 4,
 "nbformat_minor": 5
}
