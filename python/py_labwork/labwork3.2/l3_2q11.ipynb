{
 "cells": [
  {
   "cell_type": "code",
   "execution_count": 2,
   "id": "7e4c4906",
   "metadata": {},
   "outputs": [
    {
     "name": "stdout",
     "output_type": "stream",
     "text": [
      "{'A': '1', 'B': '2', 'C': '3', 'd': '4', 'e': '5', 'f': '6'}\n"
     ]
    }
   ],
   "source": [
    "user_dict = {}\n",
    "while True :\n",
    "    user_input = input(\"Enter Key : Enter Values (Enter /'done'/when if you want to stop input promt ) \")\n",
    "    if user_input.lower() == \"done\" :\n",
    "        break\n",
    "    else:\n",
    "        keys , values = user_input.split(\":\")\n",
    "        user_dict[keys.strip()] = values.strip()\n",
    "print(user_dict)\n",
    "\n"
   ]
  },
  {
   "cell_type": "code",
   "execution_count": null,
   "id": "76ea2e2a",
   "metadata": {},
   "outputs": [],
   "source": []
  }
 ],
 "metadata": {
  "kernelspec": {
   "display_name": "parth",
   "language": "python",
   "name": "python3"
  },
  "language_info": {
   "codemirror_mode": {
    "name": "ipython",
    "version": 3
   },
   "file_extension": ".py",
   "mimetype": "text/x-python",
   "name": "python",
   "nbconvert_exporter": "python",
   "pygments_lexer": "ipython3",
   "version": "3.13.3"
  }
 },
 "nbformat": 4,
 "nbformat_minor": 5
}
