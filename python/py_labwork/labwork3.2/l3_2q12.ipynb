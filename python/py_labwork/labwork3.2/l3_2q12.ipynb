{
 "cells": [
  {
   "cell_type": "code",
   "execution_count": 5,
   "id": "534e2960",
   "metadata": {},
   "outputs": [
    {
     "name": "stdout",
     "output_type": "stream",
     "text": [
      "[1, 2, 1, 3, 1, 5, 2, 4, 2, 5, 3, 6, 4, 7, 5, 8, 6, 8, 6, 9, 7, 8, 2, 1, 4, 7, 5, 8, 6, 9, 1, 2, 3, 4, 5, 6, 7, 8, 9, 9, 0]\n"
     ]
    }
   ],
   "source": [
    "my_list = [1,2,1,3,1,5,2,4,2,5,3,6,4,7,5,8,6,8,6,9,7,8,2,1,4,7,5,8,6,9,1,2,3,4,5,6,7,8,9,9,0]\n",
    "print(my_list)\n",
    "my_set = set(my_list)\n",
    "my_list = list(my_set)"
   ]
  },
  {
   "cell_type": "code",
   "execution_count": 6,
   "id": "4b224485",
   "metadata": {},
   "outputs": [
    {
     "data": {
      "text/plain": [
       "[0, 1, 2, 3, 4, 5, 6, 7, 8, 9]"
      ]
     },
     "execution_count": 6,
     "metadata": {},
     "output_type": "execute_result"
    }
   ],
   "source": [
    "my_list\n"
   ]
  },
  {
   "cell_type": "code",
   "execution_count": null,
   "id": "8fe1a4d6",
   "metadata": {},
   "outputs": [],
   "source": []
  }
 ],
 "metadata": {
  "kernelspec": {
   "display_name": "parth",
   "language": "python",
   "name": "python3"
  },
  "language_info": {
   "codemirror_mode": {
    "name": "ipython",
    "version": 3
   },
   "file_extension": ".py",
   "mimetype": "text/x-python",
   "name": "python",
   "nbconvert_exporter": "python",
   "pygments_lexer": "ipython3",
   "version": "3.13.3"
  }
 },
 "nbformat": 4,
 "nbformat_minor": 5
}
