{
 "cells": [
  {
   "cell_type": "code",
   "execution_count": 1,
   "id": "efa7e32a",
   "metadata": {},
   "outputs": [],
   "source": [
    "name=input(\"Enter your name : \")"
   ]
  },
  {
   "cell_type": "code",
   "execution_count": 2,
   "id": "4cfe2214",
   "metadata": {},
   "outputs": [],
   "source": [
    "height = input(\"Enter your heght in cm : \")"
   ]
  },
  {
   "cell_type": "code",
   "execution_count": 4,
   "id": "851062c7",
   "metadata": {},
   "outputs": [],
   "source": [
    "weight = input(\"Enter your weight in kg : \")"
   ]
  },
  {
   "cell_type": "code",
   "execution_count": 6,
   "id": "ba574a6f",
   "metadata": {},
   "outputs": [
    {
     "name": "stdout",
     "output_type": "stream",
     "text": [
      "parth mangroliya your height is 182 cm and your weight is 95 kg\n"
     ]
    }
   ],
   "source": [
    "print(name,\"your height is\",height,\"cm and your weight is\",weight,\"kg\")"
   ]
  },
  {
   "cell_type": "code",
   "execution_count": null,
   "id": "2049c5b4",
   "metadata": {},
   "outputs": [],
   "source": []
  }
 ],
 "metadata": {
  "kernelspec": {
   "display_name": "parth",
   "language": "python",
   "name": "python3"
  },
  "language_info": {
   "codemirror_mode": {
    "name": "ipython",
    "version": 3
   },
   "file_extension": ".py",
   "mimetype": "text/x-python",
   "name": "python",
   "nbconvert_exporter": "python",
   "pygments_lexer": "ipython3",
   "version": "3.13.3"
  }
 },
 "nbformat": 4,
 "nbformat_minor": 5
}
