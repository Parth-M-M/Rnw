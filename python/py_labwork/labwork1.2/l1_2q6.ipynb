{
 "cells": [
  {
   "cell_type": "code",
   "execution_count": 19,
   "id": "99eacbcf",
   "metadata": {},
   "outputs": [],
   "source": [
    "first =int(input(\"Enter 0 or 1 : \"))"
   ]
  },
  {
   "cell_type": "code",
   "execution_count": 20,
   "id": "b7fd4af2",
   "metadata": {},
   "outputs": [],
   "source": [
    "second = int(input(\"Enter 0 or 1 : \"))"
   ]
  },
  {
   "cell_type": "code",
   "execution_count": 21,
   "id": "90e1ea1a",
   "metadata": {},
   "outputs": [
    {
     "data": {
      "text/plain": [
       "0"
      ]
     },
     "execution_count": 21,
     "metadata": {},
     "output_type": "execute_result"
    }
   ],
   "source": [
    "first and second"
   ]
  },
  {
   "cell_type": "code",
   "execution_count": 22,
   "id": "6d9778af",
   "metadata": {},
   "outputs": [
    {
     "data": {
      "text/plain": [
       "1"
      ]
     },
     "execution_count": 22,
     "metadata": {},
     "output_type": "execute_result"
    }
   ],
   "source": [
    "first or second"
   ]
  },
  {
   "cell_type": "code",
   "execution_count": 23,
   "id": "c81b08de",
   "metadata": {},
   "outputs": [
    {
     "data": {
      "text/plain": [
       "True"
      ]
     },
     "execution_count": 23,
     "metadata": {},
     "output_type": "execute_result"
    }
   ],
   "source": [
    "first != second"
   ]
  },
  {
   "cell_type": "code",
   "execution_count": null,
   "id": "30ddc804",
   "metadata": {},
   "outputs": [],
   "source": []
  }
 ],
 "metadata": {
  "kernelspec": {
   "display_name": "parth",
   "language": "python",
   "name": "python3"
  },
  "language_info": {
   "codemirror_mode": {
    "name": "ipython",
    "version": 3
   },
   "file_extension": ".py",
   "mimetype": "text/x-python",
   "name": "python",
   "nbconvert_exporter": "python",
   "pygments_lexer": "ipython3",
   "version": "3.13.3"
  }
 },
 "nbformat": 4,
 "nbformat_minor": 5
}
