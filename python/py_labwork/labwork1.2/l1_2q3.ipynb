{
 "cells": [
  {
   "cell_type": "code",
   "execution_count": 1,
   "id": "e4d82772",
   "metadata": {},
   "outputs": [],
   "source": [
    "num1 = int(input(\"Enter First number : \"))"
   ]
  },
  {
   "cell_type": "code",
   "execution_count": 3,
   "id": "c6edf76a",
   "metadata": {},
   "outputs": [],
   "source": [
    "num2 = int(input(\"Enter second number : \"))"
   ]
  },
  {
   "cell_type": "code",
   "execution_count": 4,
   "id": "29d2da62",
   "metadata": {},
   "outputs": [
    {
     "name": "stdout",
     "output_type": "stream",
     "text": [
      "Addition of  10 and 2 is :  12\n"
     ]
    }
   ],
   "source": [
    "print(\"Addition of \",num1,\"and\",num2,\"is : \",  num1 + num2)"
   ]
  },
  {
   "cell_type": "code",
   "execution_count": 5,
   "id": "8fdc1032",
   "metadata": {},
   "outputs": [
    {
     "name": "stdout",
     "output_type": "stream",
     "text": [
      "Substraction of  10 and 2 is : 8\n"
     ]
    }
   ],
   "source": [
    "print(\"Substraction of \",num1,\"and\",num2,\"is :\",num1 - num2)"
   ]
  },
  {
   "cell_type": "code",
   "execution_count": 6,
   "id": "9d6663f4",
   "metadata": {},
   "outputs": [
    {
     "name": "stdout",
     "output_type": "stream",
     "text": [
      "multiplication of  10 and 2 is : 20\n"
     ]
    }
   ],
   "source": [
    "print(\"multiplication of \",num1,\"and\",num2,\"is :\",num1 * num2)"
   ]
  },
  {
   "cell_type": "code",
   "execution_count": 7,
   "id": "37fba11c",
   "metadata": {},
   "outputs": [
    {
     "name": "stdout",
     "output_type": "stream",
     "text": [
      "division of  10 and 2 is : 5.0\n"
     ]
    }
   ],
   "source": [
    "print(\"division of \",num1,\"and\",num2,\"is :\",num1 / num2)"
   ]
  },
  {
   "cell_type": "code",
   "execution_count": 8,
   "id": "7baade51",
   "metadata": {},
   "outputs": [
    {
     "name": "stdout",
     "output_type": "stream",
     "text": [
      "exponentional of  10 and 2 is : 100\n"
     ]
    }
   ],
   "source": [
    "print(\"exponentional of \",num1,\"and\",num2,\"is :\",num1 ** num2)"
   ]
  },
  {
   "cell_type": "code",
   "execution_count": 9,
   "id": "00256fc3",
   "metadata": {},
   "outputs": [
    {
     "name": "stdout",
     "output_type": "stream",
     "text": [
      "flour division of  10 and 2 is : 5\n"
     ]
    }
   ],
   "source": [
    "print(\"flour division of \",num1,\"and\",num2,\"is :\",num1 // num2)"
   ]
  }
 ],
 "metadata": {
  "kernelspec": {
   "display_name": "parth",
   "language": "python",
   "name": "python3"
  },
  "language_info": {
   "codemirror_mode": {
    "name": "ipython",
    "version": 3
   },
   "file_extension": ".py",
   "mimetype": "text/x-python",
   "name": "python",
   "nbconvert_exporter": "python",
   "pygments_lexer": "ipython3",
   "version": "3.13.3"
  }
 },
 "nbformat": 4,
 "nbformat_minor": 5
}
