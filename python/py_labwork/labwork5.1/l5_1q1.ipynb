{
 "cells": [
  {
   "cell_type": "code",
   "execution_count": 5,
   "id": "f5ddf9a7",
   "metadata": {},
   "outputs": [
    {
     "name": "stdout",
     "output_type": "stream",
     "text": [
      "parth\n",
      "22\n"
     ]
    }
   ],
   "source": [
    "class Person :\n",
    "    name = None\n",
    "    age = None\n",
    "\n",
    "    def __init__(self,name,age):\n",
    "        self.name = name\n",
    "        self.age  = age \n",
    "\n",
    "    def get(self):\n",
    "        print(self.name)\n",
    "        print(self.age)\n",
    "\n",
    "\n",
    "name = input(\"Enter name : \")\n",
    "age = int(input(\"Enter age : \"))\n",
    "o1 = Person(name,age)\n",
    "\n",
    "o1.get()"
   ]
  }
 ],
 "metadata": {
  "kernelspec": {
   "display_name": "parth",
   "language": "python",
   "name": "python3"
  },
  "language_info": {
   "codemirror_mode": {
    "name": "ipython",
    "version": 3
   },
   "file_extension": ".py",
   "mimetype": "text/x-python",
   "name": "python",
   "nbconvert_exporter": "python",
   "pygments_lexer": "ipython3",
   "version": "3.13.3"
  }
 },
 "nbformat": 4,
 "nbformat_minor": 5
}
