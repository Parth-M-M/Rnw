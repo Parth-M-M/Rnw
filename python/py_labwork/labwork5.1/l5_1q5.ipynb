{
 "cells": [
  {
   "cell_type": "code",
   "execution_count": 1,
   "id": "4ff86bac",
   "metadata": {},
   "outputs": [
    {
     "name": "stdout",
     "output_type": "stream",
     "text": [
      "monkey\n",
      "cat\n",
      "dog\n"
     ]
    },
    {
     "ename": "NameError",
     "evalue": "name 'obj1' is not defined",
     "output_type": "error",
     "traceback": [
      "\u001b[31m---------------------------------------------------------------------------\u001b[39m",
      "\u001b[31mNameError\u001b[39m                                 Traceback (most recent call last)",
      "\u001b[36mCell\u001b[39m\u001b[36m \u001b[39m\u001b[32mIn[1]\u001b[39m\u001b[32m, line 19\u001b[39m\n\u001b[32m     16\u001b[39m \u001b[38;5;28;01mdel\u001b[39;00m obj2\n\u001b[32m     17\u001b[39m \u001b[38;5;28;01mdel\u001b[39;00m obj3\n\u001b[32m---> \u001b[39m\u001b[32m19\u001b[39m \u001b[38;5;28mprint\u001b[39m(\u001b[43mobj1\u001b[49m.name)\n\u001b[32m     20\u001b[39m \u001b[38;5;28mprint\u001b[39m(obj2.name)\n\u001b[32m     21\u001b[39m \u001b[38;5;28mprint\u001b[39m(obj3.name)\n",
      "\u001b[31mNameError\u001b[39m: name 'obj1' is not defined"
     ]
    }
   ],
   "source": [
    "class animal :\n",
    "    def __init__(self,name):\n",
    "            self.name = name\n",
    "    def get(self):\n",
    "            print(self.name)\n",
    "\n",
    "obj1 = animal(\"monkey\")\n",
    "obj2 = animal(\"cat\")\n",
    "obj3 = animal(\"dog\")\n",
    "\n",
    "print(obj1.name)\n",
    "print(obj2.name)\n",
    "print(obj3.name)\n",
    "\n",
    "del obj1\n",
    "del obj2\n",
    "del obj3\n",
    "\n",
    "print(obj1.name)\n",
    "print(obj2.name)\n",
    "print(obj3.name)\n"
   ]
  },
  {
   "cell_type": "code",
   "execution_count": null,
   "id": "36e88978",
   "metadata": {},
   "outputs": [],
   "source": [
    "\n"
   ]
  }
 ],
 "metadata": {
  "kernelspec": {
   "display_name": "parth",
   "language": "python",
   "name": "python3"
  },
  "language_info": {
   "codemirror_mode": {
    "name": "ipython",
    "version": 3
   },
   "file_extension": ".py",
   "mimetype": "text/x-python",
   "name": "python",
   "nbconvert_exporter": "python",
   "pygments_lexer": "ipython3",
   "version": "3.13.3"
  }
 },
 "nbformat": 4,
 "nbformat_minor": 5
}
