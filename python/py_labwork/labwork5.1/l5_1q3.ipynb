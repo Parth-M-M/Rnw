{
 "cells": [
  {
   "cell_type": "code",
   "execution_count": null,
   "id": "4a60ac3b",
   "metadata": {},
   "outputs": [
    {
     "name": "stdout",
     "output_type": "stream",
     "text": [
      "<__main__.sample object at 0x000002B75DFB9400>\n"
     ]
    }
   ],
   "source": [
    "class sample :\n",
    "    def __init__(self , name , age ,occupation ):\n",
    "        self.name = name\n",
    "        self.age = age \n",
    "        self.occupation = occupation\n",
    "    \n",
    "    def get(self):\n",
    "        print(self.name)\n",
    "        print(self.age)\n",
    "        print(self.occupation)\n",
    "    \n",
    "sample_1 = []\n",
    "\n",
    "while True :\n",
    "    input_data = list(x for x in input(\"If you want to enter data enter y else x \").split(\" \"))\n",
    "    if input_data[0].lower() == \"x\" :\n",
    "        break\n",
    "    else :\n",
    "        name = input(\"Enter name : \")\n",
    "        age = int(input(\"Enter age : \"))\n",
    "        occupation = input(\"enter Occupation : \")\n",
    "        sample_1.append(sample(name,age,occupation))\n",
    "        \n",
    "sample_1.get(sample)\n",
    "print(sample_1[0])\n",
    "sample_1\n",
    "del sample_1[0]"
   ]
  },
  {
   "cell_type": "code",
   "execution_count": null,
   "id": "0afa49c4",
   "metadata": {},
   "outputs": [],
   "source": []
  }
 ],
 "metadata": {
  "kernelspec": {
   "display_name": "parth",
   "language": "python",
   "name": "python3"
  },
  "language_info": {
   "codemirror_mode": {
    "name": "ipython",
    "version": 3
   },
   "file_extension": ".py",
   "mimetype": "text/x-python",
   "name": "python",
   "nbconvert_exporter": "python",
   "pygments_lexer": "ipython3",
   "version": "3.13.3"
  }
 },
 "nbformat": 4,
 "nbformat_minor": 5
}
