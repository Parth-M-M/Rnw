{
 "cells": [
  {
   "cell_type": "code",
   "execution_count": 1,
   "id": "4a60ac3b",
   "metadata": {},
   "outputs": [
    {
     "name": "stdout",
     "output_type": "stream",
     "text": [
      "Object A created.\n",
      "Object B created.\n",
      "Object C created.\n",
      "Objects created.\n",
      "\n",
      "Object A destroyed.\n",
      "Deleted obj1.\n",
      "Object B destroyed.\n",
      "Deleted obj2.\n",
      "Object C destroyed.\n",
      "Deleted obj3.\n"
     ]
    }
   ],
   "source": [
    "class MyClass:\n",
    "    def __init__(self, name):\n",
    "        self.name = name\n",
    "        print(f\"Object {self.name} created.\")\n",
    "\n",
    "    def __del__(self):\n",
    "        print(f\"Object {self.name} destroyed.\")\n",
    "\n",
    "obj1 = MyClass(\"A\")\n",
    "obj2 = MyClass(\"B\")\n",
    "obj3 = MyClass(\"C\")\n",
    "\n",
    "print(\"Objects created.\\n\")\n",
    "\n",
    "del obj1\n",
    "print(\"Deleted obj1.\")\n",
    "\n",
    "del obj2\n",
    "print(\"Deleted obj2.\")\n",
    "\n",
    "del obj3\n",
    "print(\"Deleted obj3.\")\n",
    "\n",
    "import time\n",
    "time.sleep(1)\n"
   ]
  },
  {
   "cell_type": "code",
   "execution_count": null,
   "id": "0afa49c4",
   "metadata": {},
   "outputs": [],
   "source": []
  }
 ],
 "metadata": {
  "kernelspec": {
   "display_name": "parth",
   "language": "python",
   "name": "python3"
  },
  "language_info": {
   "codemirror_mode": {
    "name": "ipython",
    "version": 3
   },
   "file_extension": ".py",
   "mimetype": "text/x-python",
   "name": "python",
   "nbconvert_exporter": "python",
   "pygments_lexer": "ipython3",
   "version": "3.13.3"
  }
 },
 "nbformat": 4,
 "nbformat_minor": 5
}
