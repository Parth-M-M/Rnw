{
 "cells": [
  {
   "cell_type": "code",
   "execution_count": 4,
   "id": "25f40650",
   "metadata": {},
   "outputs": [
    {
     "name": "stdout",
     "output_type": "stream",
     "text": [
      "employee made !!!\n",
      "Employee deleted !!!\n",
      "Employee deleted !!!\n"
     ]
    }
   ],
   "source": [
    "class employee :\n",
    "    def __init__(self ,name ,id):\n",
    "        self.name = name \n",
    "        self.id = id \n",
    "        print(\"employee made !!!\")\n",
    "    def __del__ (self):\n",
    "        print(\"Employee deleted !!!\")\n",
    "\n",
    "obj1 = employee(\"parth\",22)\n",
    "obj1.__del__()"
   ]
  },
  {
   "cell_type": "code",
   "execution_count": null,
   "id": "c54ff889",
   "metadata": {},
   "outputs": [],
   "source": []
  },
  {
   "cell_type": "code",
   "execution_count": null,
   "id": "ccc3cfa4",
   "metadata": {},
   "outputs": [],
   "source": []
  },
  {
   "cell_type": "code",
   "execution_count": null,
   "id": "91e4ab17",
   "metadata": {},
   "outputs": [],
   "source": []
  }
 ],
 "metadata": {
  "kernelspec": {
   "display_name": "parth",
   "language": "python",
   "name": "python3"
  },
  "language_info": {
   "codemirror_mode": {
    "name": "ipython",
    "version": 3
   },
   "file_extension": ".py",
   "mimetype": "text/x-python",
   "name": "python",
   "nbconvert_exporter": "python",
   "pygments_lexer": "ipython3",
   "version": "3.13.3"
  }
 },
 "nbformat": 4,
 "nbformat_minor": 5
}
