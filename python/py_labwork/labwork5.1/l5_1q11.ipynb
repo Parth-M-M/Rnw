{
 "cells": [
  {
   "cell_type": "code",
   "execution_count": 6,
   "id": "9545e3d6",
   "metadata": {},
   "outputs": [
    {
     "name": "stdout",
     "output_type": "stream",
     "text": [
      "Please enter exactly three marks.\n",
      "Name: parth \n",
      "Average marks: 72.00\n",
      "Grade: B\n"
     ]
    }
   ],
   "source": [
    "class Student:\n",
    "    def __init__(self, name=\"\", marks=None):\n",
    "        if marks is None:\n",
    "            marks = []\n",
    "        self.name = name\n",
    "        self.marks = marks[:3]\n",
    "\n",
    "    def average(self):\n",
    "        avg = sum(self.marks) / len(self.marks)\n",
    "        print(f\"Average marks: {avg:.2f}\")\n",
    "        return avg\n",
    "\n",
    "    def display(self):\n",
    "        avg = self.average()\n",
    "        if avg >= 90:\n",
    "            grade = \"A+\"\n",
    "        elif avg >= 80:\n",
    "            grade = \"A\"\n",
    "        elif avg >= 70:\n",
    "            grade = \"B\"\n",
    "        elif avg >= 60:\n",
    "            grade = \"C\"\n",
    "        elif avg >= 50:\n",
    "            grade = \"D\"\n",
    "        else:\n",
    "            grade = \"F\"\n",
    "        print(f\"Grade: {grade}\")\n",
    "\n",
    "    def seter(self):\n",
    "        self.name = input(\"Enter your name: \")\n",
    "        self.marks = list(map(int, input(\"Enter marks of three subjects separated by space: \").split()))\n",
    "        if len(self.marks) != 3:\n",
    "            print(\"Please enter exactly three marks.\")\n",
    "            self.seter()\n",
    "        else:\n",
    "            print(f\"Name: {self.name}\")\n",
    "            self.display()\n",
    "\n",
    "obj1 = Student()\n",
    "obj1.seter()\n"
   ]
  },
  {
   "cell_type": "code",
   "execution_count": null,
   "id": "bfb91c3f",
   "metadata": {},
   "outputs": [],
   "source": []
  }
 ],
 "metadata": {
  "kernelspec": {
   "display_name": "parth",
   "language": "python",
   "name": "python3"
  },
  "language_info": {
   "codemirror_mode": {
    "name": "ipython",
    "version": 3
   },
   "file_extension": ".py",
   "mimetype": "text/x-python",
   "name": "python",
   "nbconvert_exporter": "python",
   "pygments_lexer": "ipython3",
   "version": "3.13.3"
  }
 },
 "nbformat": 4,
 "nbformat_minor": 5
}
