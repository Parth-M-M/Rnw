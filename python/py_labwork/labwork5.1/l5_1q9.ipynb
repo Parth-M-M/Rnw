{
 "cells": [
  {
   "cell_type": "code",
   "execution_count": 3,
   "id": "7ca918f0",
   "metadata": {},
   "outputs": [
    {
     "name": "stdout",
     "output_type": "stream",
     "text": [
      "Remaining Amount : 0\n",
      "Amount Deposited : 10000\n",
      "Remaining Balance : 10000\n",
      "Amount Withdrawn : 5000\n",
      "Remaining Balance : 5000\n",
      "Remaining Amount : 5000\n"
     ]
    }
   ],
   "source": [
    "class Account :\n",
    "    def __init__(self,balance=0):\n",
    "        self.balance = balance \n",
    "\n",
    "    def deposit(self,n):\n",
    "        self.balance += n \n",
    "        print(f\"Amount Deposited : {n}\")\n",
    "        print(f\"Remaining Balance : {self.balance}\")\n",
    "\n",
    "    def withdraw(self,n):\n",
    "        self.balance -= n \n",
    "        print(f\"Amount Withdrawn : {n}\")\n",
    "        print(f\"Remaining Balance : {self.balance}\")\n",
    "\n",
    "    def view(self):\n",
    "        print(f\"Remaining Amount : {self.balance}\")\n",
    "\n",
    "\n",
    "obj1 = Account()\n",
    "obj1.view()\n",
    "obj1.deposit(10000)\n",
    "obj1.withdraw(5000)\n",
    "obj1.view()\n",
    "        "
   ]
  },
  {
   "cell_type": "code",
   "execution_count": null,
   "id": "e918af8d",
   "metadata": {},
   "outputs": [],
   "source": []
  }
 ],
 "metadata": {
  "kernelspec": {
   "display_name": "parth",
   "language": "python",
   "name": "python3"
  },
  "language_info": {
   "codemirror_mode": {
    "name": "ipython",
    "version": 3
   },
   "file_extension": ".py",
   "mimetype": "text/x-python",
   "name": "python",
   "nbconvert_exporter": "python",
   "pygments_lexer": "ipython3",
   "version": "3.13.3"
  }
 },
 "nbformat": 4,
 "nbformat_minor": 5
}
