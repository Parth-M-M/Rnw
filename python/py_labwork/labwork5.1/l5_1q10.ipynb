{
 "cells": [
  {
   "cell_type": "code",
   "execution_count": 2,
   "id": "5ecd1f64",
   "metadata": {},
   "outputs": [
    {
     "name": "stdout",
     "output_type": "stream",
     "text": [
      "Your Under Legal age \n",
      "Your Age is 12\n"
     ]
    }
   ],
   "source": [
    "class age :\n",
    "    def __init__(self,age=0):\n",
    "        self.age = age \n",
    "\n",
    "    def validator(self):\n",
    "        if self.age == 0 :\n",
    "            print(\"your New born\")\n",
    "        elif self.age <= 18 :\n",
    "            print(\"Your Under Legal age \")\n",
    "        elif self.age >= 18 :\n",
    "            print(\"Your Above legal age \")\n",
    "\n",
    "    def set(self,n):\n",
    "        self.age = n \n",
    "        self.validator()\n",
    "\n",
    "    def get(self):\n",
    "        print(f\"Your Age is {self.age}\")\n",
    "\n",
    "obj1 = age()\n",
    "obj1.set(12)\n",
    "obj1.get()\n"
   ]
  },
  {
   "cell_type": "code",
   "execution_count": null,
   "id": "5d9a2040",
   "metadata": {},
   "outputs": [],
   "source": []
  }
 ],
 "metadata": {
  "kernelspec": {
   "display_name": "parth",
   "language": "python",
   "name": "python3"
  },
  "language_info": {
   "codemirror_mode": {
    "name": "ipython",
    "version": 3
   },
   "file_extension": ".py",
   "mimetype": "text/x-python",
   "name": "python",
   "nbconvert_exporter": "python",
   "pygments_lexer": "ipython3",
   "version": "3.13.3"
  }
 },
 "nbformat": 4,
 "nbformat_minor": 5
}
