{
 "cells": [
  {
   "cell_type": "code",
   "execution_count": 2,
   "id": "0c7187f9",
   "metadata": {},
   "outputs": [
    {
     "name": "stdout",
     "output_type": "stream",
     "text": [
      "harry potter\n",
      "j.k. rouwling\n"
     ]
    }
   ],
   "source": [
    "class book:\n",
    "    def __init__(self,name,authour):\n",
    "        self.name = name\n",
    "        self.authour = authour\n",
    "\n",
    "    def set(self):\n",
    "        self.name = input(\"Enter Book name : \")\n",
    "        self.authour = input(\"Enter authour name : \")\n",
    "\n",
    "    def get(self):\n",
    "        print(self.name)\n",
    "        print(self.authour)\n",
    "\n",
    "obj1 = book(None,None)\n",
    "obj1.set()\n",
    "obj1.get()\n"
   ]
  },
  {
   "cell_type": "code",
   "execution_count": null,
   "id": "b738e279",
   "metadata": {},
   "outputs": [],
   "source": []
  }
 ],
 "metadata": {
  "kernelspec": {
   "display_name": "parth",
   "language": "python",
   "name": "python3"
  },
  "language_info": {
   "codemirror_mode": {
    "name": "ipython",
    "version": 3
   },
   "file_extension": ".py",
   "mimetype": "text/x-python",
   "name": "python",
   "nbconvert_exporter": "python",
   "pygments_lexer": "ipython3",
   "version": "3.13.3"
  }
 },
 "nbformat": 4,
 "nbformat_minor": 5
}
