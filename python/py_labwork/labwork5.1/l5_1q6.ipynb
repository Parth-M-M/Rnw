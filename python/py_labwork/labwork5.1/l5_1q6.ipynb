{
 "cells": [
  {
   "cell_type": "code",
   "execution_count": 6,
   "id": "562ac290",
   "metadata": {},
   "outputs": [
    {
     "name": "stdout",
     "output_type": "stream",
     "text": [
      "Area of rectangle : 25\n"
     ]
    }
   ],
   "source": [
    "class rectangle :\n",
    "    def __init__(self,length,breadth):\n",
    "        self.length = length \n",
    "        self.breadth = breadth \n",
    "    \n",
    "    def rec_area(self):\n",
    "        area = self.length * self.breadth\n",
    "        return area\n",
    "    \n",
    "length = int(input(\"Enter rectangle length : \"))\n",
    "breadth = int(input(\"Enter rectangle breadth : \"))\n",
    "\n",
    "obj1 = rectangle(length,breadth)\n",
    "print(\"Area of rectangle :\",obj1.rec_area())"
   ]
  },
  {
   "cell_type": "code",
   "execution_count": null,
   "id": "796fc6c3",
   "metadata": {},
   "outputs": [],
   "source": []
  },
  {
   "cell_type": "code",
   "execution_count": null,
   "id": "dbc22d1a",
   "metadata": {},
   "outputs": [],
   "source": []
  }
 ],
 "metadata": {
  "kernelspec": {
   "display_name": "parth",
   "language": "python",
   "name": "python3"
  },
  "language_info": {
   "codemirror_mode": {
    "name": "ipython",
    "version": 3
   },
   "file_extension": ".py",
   "mimetype": "text/x-python",
   "name": "python",
   "nbconvert_exporter": "python",
   "pygments_lexer": "ipython3",
   "version": "3.13.3"
  }
 },
 "nbformat": 4,
 "nbformat_minor": 5
}
