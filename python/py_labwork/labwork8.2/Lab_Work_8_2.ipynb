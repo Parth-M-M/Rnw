{
  "cells": [
    {
      "cell_type": "markdown",
      "metadata": {
        "id": "nksqNEVUUkIG"
      },
      "source": [
        "#### **1. Mathematical Operations**"
      ]
    },
    {
      "cell_type": "markdown",
      "metadata": {
        "id": "M2V9hzmxdRVB"
      },
      "source": [
        "##### 1. Create two NumPy arrays of shape (3, 3) and perform element-wise addition, subtraction, multiplication, and division."
      ]
    },
    {
      "cell_type": "code",
      "execution_count": 2,
      "metadata": {},
      "outputs": [
        {
          "name": "stdout",
          "output_type": "stream",
          "text": [
            "[[1 2 3]\n",
            " [4 5 6]\n",
            " [7 8 9]]\n",
            " \n",
            "[[11 12 13]\n",
            " [14 15 16]\n",
            " [17 18 19]]\n",
            " \n",
            "[[12 14 16]\n",
            " [18 20 22]\n",
            " [24 26 28]]\n",
            " \n",
            "[[-10 -10 -10]\n",
            " [-10 -10 -10]\n",
            " [-10 -10 -10]]\n",
            " \n",
            "[[ 11  24  39]\n",
            " [ 56  75  96]\n",
            " [119 144 171]]\n",
            " \n",
            "[[11.          6.          4.33333333]\n",
            " [ 3.5         3.          2.66666667]\n",
            " [ 2.42857143  2.25        2.11111111]]\n"
          ]
        }
      ],
      "source": [
        "import numpy as np\n",
        "\n",
        "a1 = np.arange(1,10).reshape(3,3)\n",
        "a2 = np.arange(11,20).reshape(3,3)\n",
        "print(a1)\n",
        "print(\" \")\n",
        "print(a2)\n",
        "print(\" \")\n",
        "print(a1+a2)\n",
        "print(\" \")\n",
        "print(a1-a2)\n",
        "print(\" \")\n",
        "print(a1*a2)\n",
        "print(\" \")\n",
        "print(a2/a1)\n"
      ]
    },
    {
      "cell_type": "markdown",
      "metadata": {
        "id": "SnJJLZPGdUqZ"
      },
      "source": [
        "##### 2. Generate a NumPy array with random integers and apply square root, exponential, and logarithmic functions."
      ]
    },
    {
      "cell_type": "code",
      "execution_count": 3,
      "metadata": {},
      "outputs": [
        {
          "name": "stdout",
          "output_type": "stream",
          "text": [
            "[[ 1  2  3  4  5]\n",
            " [ 6  7  8  9 10]]\n",
            "[[1.         1.41421356 1.73205081 2.         2.23606798]\n",
            " [2.44948974 2.64575131 2.82842712 3.         3.16227766]]\n",
            "[[2.71828183e+00 7.38905610e+00 2.00855369e+01 5.45981500e+01\n",
            "  1.48413159e+02]\n",
            " [4.03428793e+02 1.09663316e+03 2.98095799e+03 8.10308393e+03\n",
            "  2.20264658e+04]]\n",
            "[[0.         0.69314718 1.09861229 1.38629436 1.60943791]\n",
            " [1.79175947 1.94591015 2.07944154 2.19722458 2.30258509]]\n"
          ]
        }
      ],
      "source": [
        "a3 = np.arange(1,11).reshape(2,5)\n",
        "print(a3)\n",
        "print(np.sqrt(a3))\n",
        "print(np.exp(a3))\n",
        "print(np.log(a3))"
      ]
    },
    {
      "cell_type": "markdown",
      "metadata": {
        "id": "LVsxMsapdXYL"
      },
      "source": [
        "##### 3. Create a NumPy array and apply trigonometric operations like sin, cos, and tan."
      ]
    },
    {
      "cell_type": "code",
      "execution_count": 4,
      "metadata": {},
      "outputs": [
        {
          "name": "stdout",
          "output_type": "stream",
          "text": [
            "[[ 0.84147098  0.90929743  0.14112001 -0.7568025  -0.95892427]\n",
            " [-0.2794155   0.6569866   0.98935825  0.41211849 -0.54402111]]\n",
            "[[ 0.54030231 -0.41614684 -0.9899925  -0.65364362  0.28366219]\n",
            " [ 0.96017029  0.75390225 -0.14550003 -0.91113026 -0.83907153]]\n",
            "[[ 1.55740772 -2.18503986 -0.14254654  1.15782128 -3.38051501]\n",
            " [-0.29100619  0.87144798 -6.79971146 -0.45231566  0.64836083]]\n"
          ]
        }
      ],
      "source": [
        "print(np.sin(a3))\n",
        "print(np.cos(a3))\n",
        "print(np.tan(a3))"
      ]
    },
    {
      "cell_type": "markdown",
      "metadata": {
        "id": "NoTH3MDldZVC"
      },
      "source": [
        "##### 4. Normalize a NumPy array using vectorized operations (subtract mean and divide by std)."
      ]
    },
    {
      "cell_type": "code",
      "execution_count": 5,
      "metadata": {},
      "outputs": [
        {
          "name": "stdout",
          "output_type": "stream",
          "text": [
            "[1 2 3 4 5]\n",
            "[-1.41421356 -0.70710678  0.          0.70710678  1.41421356]\n"
          ]
        }
      ],
      "source": [
        "import numpy as np \n",
        "\n",
        "array = np.array([1,2,3,4,5])\n",
        "mean = np.mean(array)\n",
        "std = np.std(array)\n",
        "n_array = (array - mean)/std\n",
        "print(array)\n",
        "print(n_array)"
      ]
    },
    {
      "cell_type": "markdown",
      "metadata": {
        "id": "pUY2m_3XdbNa"
      },
      "source": [
        "##### 5. Implement a function using NumPy that calculates the Euclidean distance between two points."
      ]
    },
    {
      "cell_type": "code",
      "execution_count": 6,
      "metadata": {},
      "outputs": [
        {
          "name": "stdout",
          "output_type": "stream",
          "text": [
            "30.0\n"
          ]
        }
      ],
      "source": [
        "distance = np.linalg.norm(a1 - a2)\n",
        "print(distance)"
      ]
    },
    {
      "cell_type": "markdown",
      "metadata": {
        "id": "zJB76C5AdfGJ"
      },
      "source": [
        "#### **2. Combining and Splitting Arrays**"
      ]
    },
    {
      "cell_type": "markdown",
      "metadata": {
        "id": "LtS0WQjcdzrh"
      },
      "source": [
        "##### 1. Create two 1D arrays and concatenate them horizontally and vertically."
      ]
    },
    {
      "cell_type": "code",
      "execution_count": 7,
      "metadata": {},
      "outputs": [
        {
          "name": "stdout",
          "output_type": "stream",
          "text": [
            "[ 1  2  3  4  5  6  7  8  9 11 12 13 14 15 16 17 18 19]\n",
            "[[ 1  2  3  4  5  6  7  8  9]\n",
            " [11 12 13 14 15 16 17 18 19]]\n"
          ]
        }
      ],
      "source": [
        "a4 = np.arange(1,10)\n",
        "a5 = np.arange(11,20)\n",
        "print(np.concatenate((a4,a5)))\n",
        "print(np.vstack((a4,a5)))"
      ]
    },
    {
      "cell_type": "markdown",
      "metadata": {
        "id": "f763LOTWd1xR"
      },
      "source": [
        "##### 2. Stack multiple 2D arrays using vstack and hstack and then split them back using vsplit and hsplit."
      ]
    },
    {
      "cell_type": "code",
      "execution_count": 8,
      "metadata": {},
      "outputs": [
        {
          "name": "stdout",
          "output_type": "stream",
          "text": [
            "[[1 2]\n",
            " [3 4]\n",
            " [5 6]\n",
            " [7 8]]\n",
            "[[1 2 5 6]\n",
            " [3 4 7 8]]\n",
            "[array([[1, 2],\n",
            "       [3, 4]]), array([[5, 6],\n",
            "       [7, 8]])]\n",
            "[array([[1, 2],\n",
            "       [3, 4]]), array([[5, 6],\n",
            "       [7, 8]])]\n"
          ]
        }
      ],
      "source": [
        "a = np.array([[1, 2],\n",
        "              [3, 4]])\n",
        "b = np.array([[5, 6],\n",
        "              [7, 8]])\n",
        "c = np.vstack((a,b))\n",
        "d = np.hstack((a,b))\n",
        "print(c)\n",
        "print(d)\n",
        "print(np.vsplit(c,2))\n",
        "print(np.hsplit(d,2))\n"
      ]
    },
    {
      "cell_type": "markdown",
      "metadata": {
        "id": "OybRidJWd32p"
      },
      "source": [
        "##### 3. Create a 2D array and split it into 4 equal sub-arrays."
      ]
    },
    {
      "cell_type": "code",
      "execution_count": 9,
      "metadata": {},
      "outputs": [
        {
          "data": {
            "text/plain": [
              "[[array([[1, 2],\n",
              "         [5, 6]]),\n",
              "  array([[3, 4],\n",
              "         [7, 8]])],\n",
              " [array([[ 9, 10],\n",
              "         [13, 14]]),\n",
              "  array([[11, 12],\n",
              "         [15, 16]])]]"
            ]
          },
          "execution_count": 9,
          "metadata": {},
          "output_type": "execute_result"
        }
      ],
      "source": [
        "arr = np.array([[1,2,3,4],[5,6,7,8],[9,10,11,12],[13,14,15,16]])\n",
        "sub_arr = np.split(arr,2,axis=0)\n",
        "sub_arr = [np.split(sub_ar , 2 , axis=1) for sub_ar in sub_arr]\n",
        "sub_arr"
      ]
    },
    {
      "cell_type": "markdown",
      "metadata": {
        "id": "6q0FnQqJd6Wx"
      },
      "source": [
        "##### 4. Demonstrate the difference between concatenate, stack, and hstack functions using 2D arrays."
      ]
    },
    {
      "cell_type": "code",
      "execution_count": 24,
      "metadata": {},
      "outputs": [
        {
          "name": "stdout",
          "output_type": "stream",
          "text": [
            "Array no 1 \n",
            " [[1 2]\n",
            " [3 4]]\n",
            "\n",
            "Array no 2 \n",
            " [[4 5]\n",
            " [6 7]]\n",
            " \n",
            "concatenate axis 0 \n",
            " [[1 2]\n",
            " [3 4]\n",
            " [4 5]\n",
            " [6 7]]\n",
            " \n",
            "concatenate axis 1 \n",
            " [[1 2 4 5]\n",
            " [3 4 6 7]]\n",
            " \n",
            "Stack axis 0 \n",
            " [[[1 2]\n",
            "  [3 4]]\n",
            "\n",
            " [[4 5]\n",
            "  [6 7]]]\n",
            " \n",
            "stack axis 1 \n",
            " [[[1 2]\n",
            "  [4 5]]\n",
            "\n",
            " [[3 4]\n",
            "  [6 7]]]\n",
            "\n",
            "hstach \n",
            " [[1 2 4 5]\n",
            " [3 4 6 7]]\n"
          ]
        }
      ],
      "source": [
        "a = np.array([[1,2],[3,4]])\n",
        "b = np.array([[4,5],[6,7]])\n",
        "\n",
        "print(\"Array no 1 \\n\",a)\n",
        "print(\"\")\n",
        "print(\"Array no 2 \\n\",b)\n",
        "\n",
        "axis0 = np.concatenate((a,b),axis=0)\n",
        "axis1 = np.concatenate((a,b),axis=1)\n",
        "print(\" \")\n",
        "print(\"concatenate axis 0 \\n\",axis0)\n",
        "print(\" \")\n",
        "print(\"concatenate axis 1 \\n\",axis1)\n",
        "\n",
        "stack0 = np.stack((a,b),axis=0)\n",
        "stack1 = np.stack((a,b),axis=1)\n",
        "\n",
        "print(\" \")\n",
        "print(\"Stack axis 0 \\n\",stack0)\n",
        "print(\" \")\n",
        "print(\"stack axis 1 \\n\",stack1)\n",
        "\n",
        "hstack = np.hstack((a,b))\n",
        "\n",
        "print(\"\")\n",
        "print(\"hstach \\n\",hstack)"
      ]
    },
    {
      "cell_type": "markdown",
      "metadata": {
        "id": "E-T5X4P6d8NZ"
      },
      "source": [
        "##### 5. Create a 3D array and flatten it, then reshape it back to its original shape."
      ]
    },
    {
      "cell_type": "code",
      "execution_count": 32,
      "metadata": {},
      "outputs": [
        {
          "name": "stdout",
          "output_type": "stream",
          "text": [
            "[[[1 2 3]\n",
            "  [4 5 6]\n",
            "  [7 8 9]]]\n",
            "\n",
            " [1 2 3 4 5 6 7 8 9]\n",
            "\n",
            " [[[1 2 3]\n",
            "  [4 5 6]\n",
            "  [7 8 9]]]\n"
          ]
        }
      ],
      "source": [
        "a = np.array([[\n",
        "     [1,2,3]\n",
        "    ,[4,5,6]\n",
        "    ,[7,8,9]]])\n",
        "print(a)\n",
        "b = a.ravel()\n",
        "print(\"\\n\",b)\n",
        "c = b.reshape(1,3,3)\n",
        "print(\"\\n\",c)"
      ]
    },
    {
      "cell_type": "markdown",
      "metadata": {
        "id": "ZHM7_bvMd_yR"
      },
      "source": [
        "#### **3. Search, Sort, Aggregating/Statistical Functions**"
      ]
    },
    {
      "cell_type": "markdown",
      "metadata": {
        "id": "vUD0ThCGeOnx"
      },
      "source": [
        "##### 1. Create a NumPy array and find the index of the maximum and minimum elements."
      ]
    },
    {
      "cell_type": "code",
      "execution_count": 36,
      "metadata": {},
      "outputs": [
        {
          "name": "stdout",
          "output_type": "stream",
          "text": [
            "8\n",
            "0\n"
          ]
        }
      ],
      "source": [
        "a = np.array([[\n",
        "     [1,2,3]\n",
        "    ,[4,5,6]\n",
        "    ,[7,8,9]]])\n",
        "\n",
        "b = np.argmax(a)\n",
        "print(b)\n",
        "c = np.argmin(b)\n",
        "print(c)"
      ]
    },
    {
      "cell_type": "markdown",
      "metadata": {
        "id": "ozuiwUKyeRSZ"
      },
      "source": [
        "##### 2. Sort a 2D array along different axes and display the result."
      ]
    },
    {
      "cell_type": "code",
      "execution_count": null,
      "metadata": {},
      "outputs": [],
      "source": [
        "a = np.array([\n",
        "     [1,2,3]\n",
        "    ,[4,5,6]\n",
        "    ,[7,8,9]])\n",
        "\n"
      ]
    },
    {
      "cell_type": "markdown",
      "metadata": {
        "id": "NL-NSFxGeUtJ"
      },
      "source": [
        "##### 3. Generate a random NumPy array and find the mean, median, variance, and standard deviation."
      ]
    },
    {
      "cell_type": "markdown",
      "metadata": {
        "id": "ugEqM7k2eXBJ"
      },
      "source": [
        "##### 4. Use np.where to find all elements greater than a certain threshold in a given array."
      ]
    },
    {
      "cell_type": "markdown",
      "metadata": {
        "id": "8Li_l6hXeYtr"
      },
      "source": [
        "##### 5. Create a NumPy array and count how many elements are positive, negative, or zero."
      ]
    }
  ],
  "metadata": {
    "colab": {
      "provenance": []
    },
    "kernelspec": {
      "display_name": "parth",
      "language": "python",
      "name": "python3"
    },
    "language_info": {
      "codemirror_mode": {
        "name": "ipython",
        "version": 3
      },
      "file_extension": ".py",
      "mimetype": "text/x-python",
      "name": "python",
      "nbconvert_exporter": "python",
      "pygments_lexer": "ipython3",
      "version": "3.13.3"
    }
  },
  "nbformat": 4,
  "nbformat_minor": 0
}
