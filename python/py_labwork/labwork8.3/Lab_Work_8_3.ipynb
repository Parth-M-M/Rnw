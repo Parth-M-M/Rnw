{
  "cells": [
    {
      "cell_type": "markdown",
      "metadata": {
        "id": "lyyjUGY5xRnS"
      },
      "source": [
        "### **Task 1.1: Basic Filtering**\n",
        "#### Create a NumPy array `ages` with the following values: `[25, 30, 18, 35, 22, 40, 17]`.\n",
        "#### Use boolean indexing to create a new array `adults` containing only the ages that are 18 or older.\n",
        "\n",
        "\n",
        "### **Task 1.2: Filtering with Multiple Conditions**\n",
        "#### Using the `ages` array again, find the ages that are strictly greater than 20 AND strictly less than 35.\n",
        "#### Store the result in a new array called `young_adults`.\n",
        "\n",
        "\n",
        "### **Task 1.3: Filtering Strings**\n",
        "#### Create a NumPy array `names` with the following values: `['Alice', 'Bob', 'Charlie', 'David', 'Eve']`.\n",
        "#### Use boolean indexing to select names that start with the letter 'A' or 'E'.\n",
        "#### Hint: You might need to use string operations within your boolean condition.\n",
        "\n",
        "---\n",
        "\n",
        "### **Task 2.1: Basic Masking for Selection**\n",
        "#### Create a NumPy array `temperatures` with the following values: `[28, 32, 25, 35, 30, 22, 38]`.\n",
        "#### Create a boolean mask `is_hot` where `True` indicates temperatures above 30 degrees Celsius.\n",
        "#### Use this mask to select the hot temperatures from the `temperatures` array.\n",
        "\n",
        "\n",
        "### **Task 2.2: Masking for Modification**\n",
        "#### Using the `temperatures` array again, use the `is_hot` mask to change all temperatures above 30 degrees Celsius to 31 degrees Celsius.\n",
        "\n",
        "\n",
        "### **Task 2.3: Using `np.where()` for Masking**\n",
        "#### Create a NumPy array `scores` with the following values: `[65, 80, 72, 90, 55, 78]`.\n",
        "#### Use `np.where()` to create a new array `grades`. If a score is 75 or above, the grade should be 'Pass', otherwise 'Fail'.\n",
        "\n",
        "---\n",
        "\n",
        "### **Task 3.1: Reshaping a 1D array to 2D**\n",
        "#### Create a 1D NumPy array `numbers_1d` with values from 1 to 12 (inclusive).\n",
        "#### Reshape this array into a 2D array with 3 rows and 4 columns.\n",
        "\n",
        "### **Task 3.2: Reshaping a 2D array to 1D (Flattening)**\n",
        "#### Using the `numbers_2d` array from the previous task, flatten it back into a 1D array.\n",
        "\n",
        "### **Task 3.3: Reshaping with `-1`**\n",
        "#### Create a 1D NumPy array `values` with values from 1 to 15 (inclusive).\n",
        "#### Reshape this array into a 2D array with 5 rows, letting NumPy automatically determine the number of columns.\n",
        "\n",
        "---\n",
        "\n",
        "### **Task 4.1: Broadcasting a Scalar to an Array**\n",
        "#### Create a NumPy array `prices` with the following values: `[10, 20, 30]`.\n",
        "#### Increase all prices by 5 using broadcasting.\n",
        "\n",
        "### **Task 4.2: Broadcasting a 1D Array to a 2D Array (Row-wise)**\n",
        "#### Create a 2D NumPy array `sales` representing sales figures for 3 products over 2 days:\n",
        "#### ```\n",
        "#### [[10, 20],\n",
        "####  [15, 25],\n",
        "####  [12, 18]]\n",
        "#### ```\n",
        "#### Create a 1D NumPy array `bonuses` representing bonuses for each product: `[2, 3, 1]`.\n",
        "#### Add the `bonuses` array to the `sales` array, broadcasting row-wise.\n",
        "\n",
        "\n",
        "### **Task 4.3: Broadcasting a 1D Array to a 2D Array (Column-wise)**\n",
        "#### Using the `sales` array again, create a 1D NumPy array `tax_rates` representing tax rates for each day: `[0.1, 0.05]`.\n",
        "#### Calculate the tax amount for each sale by multiplying the `sales` array with the `tax_rates` array, broadcasting column-wise."
      ]
    },
    {
      "cell_type": "markdown",
      "metadata": {},
      "source": []
    }
  ],
  "metadata": {
    "colab": {
      "provenance": []
    },
    "kernelspec": {
      "display_name": "Python 3",
      "name": "python3"
    },
    "language_info": {
      "name": "python"
    }
  },
  "nbformat": 4,
  "nbformat_minor": 0
}
