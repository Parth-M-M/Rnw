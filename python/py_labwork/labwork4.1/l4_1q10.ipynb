{
 "cells": [
  {
   "cell_type": "code",
   "execution_count": 1,
   "id": "685c123a",
   "metadata": {},
   "outputs": [
    {
     "name": "stdout",
     "output_type": "stream",
     "text": [
      "\n",
      "--- Bill Summary ---\n",
      "milk: 5 × 64.0 = 320.0\n",
      "rice: 100 × 100.0 = 10000.0\n",
      "water : 20 × 20.0 = 400.0\n",
      "Total Cost: 10720.0\n"
     ]
    }
   ],
   "source": [
    "def calculate_total_cost(**kwargs):\n",
    "    total_cost = 0\n",
    "    details = []\n",
    "\n",
    "    for product, info in kwargs.items():\n",
    "        price = info.get('price', 0)\n",
    "        quantity = info.get('quantity', 0)\n",
    "        cost = price * quantity\n",
    "        total_cost += cost\n",
    "        details.append(f\"{product}: {quantity} × {price} = {cost}\")\n",
    "\n",
    "    result = \"\\n\".join(details)\n",
    "    result += f\"\\nTotal Cost: {total_cost}\"\n",
    "    return result\n",
    "\n",
    "def get_product_input():\n",
    "    products = {}\n",
    "    num = int(input(\"Enter number of products: \"))\n",
    "\n",
    "    for _ in range(num):\n",
    "        name = input(\"Enter product name: \")\n",
    "        price = float(input(f\"Enter price of {name}: \"))\n",
    "        quantity = int(input(f\"Enter quantity of {name}: \"))\n",
    "        products[name] = {'price': price, 'quantity': quantity}\n",
    "\n",
    "    return products\n",
    "\n",
    "if __name__ == \"__main__\":\n",
    "    product_data = get_product_input()\n",
    "    print(\"\\n--- Bill Summary ---\")\n",
    "    print(calculate_total_cost(**product_data))\n"
   ]
  },
  {
   "cell_type": "code",
   "execution_count": null,
   "id": "a6ebe830",
   "metadata": {},
   "outputs": [],
   "source": []
  },
  {
   "cell_type": "code",
   "execution_count": null,
   "id": "66f929e6",
   "metadata": {},
   "outputs": [],
   "source": []
  }
 ],
 "metadata": {
  "kernelspec": {
   "display_name": "parth",
   "language": "python",
   "name": "python3"
  },
  "language_info": {
   "codemirror_mode": {
    "name": "ipython",
    "version": 3
   },
   "file_extension": ".py",
   "mimetype": "text/x-python",
   "name": "python",
   "nbconvert_exporter": "python",
   "pygments_lexer": "ipython3",
   "version": "3.13.3"
  }
 },
 "nbformat": 4,
 "nbformat_minor": 5
}
