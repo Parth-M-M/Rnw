{
 "cells": [
  {
   "cell_type": "code",
   "execution_count": 4,
   "id": "685c123a",
   "metadata": {},
   "outputs": [
    {
     "name": "stdout",
     "output_type": "stream",
     "text": [
      "Apple:5 X 2 = 10\n",
      "Banana:10 X 1 = 10\n",
      "Orange:4 X 3 = 12\n",
      "Total Cost : 32\n"
     ]
    }
   ],
   "source": [
    "def cost_calculator(**kwargs) :\n",
    "    Total_cost = 0\n",
    "    details = []\n",
    "\n",
    "    for name , info in kwargs.items() :\n",
    "        price = info.get('price',0)\n",
    "        quantity = info.get('quantity',0)\n",
    "        cost = price * quantity \n",
    "        Total_cost += cost\n",
    "        details.append(f\"{name}:{quantity} X {price} = {cost}\") \n",
    "    details.append(f\"Total Cost : {Total_cost}\")\n",
    "    return \"\\n\".join(details)\n",
    "\n",
    "print(cost_calculator( \n",
    "    Apple={'price': 2, 'quantity': 5},\n",
    "    Banana={'price': 1, 'quantity': 10},\n",
    "    Orange={'price': 3, 'quantity': 4}\n",
    "    ))"
   ]
  }
 ],
 "metadata": {
  "kernelspec": {
   "display_name": "parth",
   "language": "python",
   "name": "python3"
  },
  "language_info": {
   "codemirror_mode": {
    "name": "ipython",
    "version": 3
   },
   "file_extension": ".py",
   "mimetype": "text/x-python",
   "name": "python",
   "nbconvert_exporter": "python",
   "pygments_lexer": "ipython3",
   "version": "3.13.3"
  }
 },
 "nbformat": 4,
 "nbformat_minor": 5
}
