{
 "cells": [
  {
   "cell_type": "code",
   "execution_count": 3,
   "id": "bcb702ef",
   "metadata": {},
   "outputs": [
    {
     "name": "stdout",
     "output_type": "stream",
     "text": [
      "Integers: [1, 2, 3]\n",
      "Strings: ['part', 'mangroliya', 'i', 'linve', '']\n"
     ]
    },
    {
     "data": {
      "text/plain": [
       "'Separation complete!'"
      ]
     },
     "execution_count": 3,
     "metadata": {},
     "output_type": "execute_result"
    }
   ],
   "source": [
    "def sep(*args):\n",
    "    my_string = []\n",
    "    my_int = []\n",
    "    for item in args:\n",
    "        if item.strip().isdigit():\n",
    "            my_int.append(int(item))\n",
    "        else:\n",
    "            my_string.append(item.strip())\n",
    "    print(\"Integers:\", my_int)\n",
    "    print(\"Strings:\", my_string)\n",
    "    return \"Separation complete!\"\n",
    "\n",
    "User_input = input(\"Enter your input in a single line separated by commas: \")\n",
    "User_list = [x for x in User_input.split(\",\")]\n",
    "sep(*User_list)\n"
   ]
  },
  {
   "cell_type": "code",
   "execution_count": 3,
   "id": "217b76f1",
   "metadata": {},
   "outputs": [
    {
     "name": "stdout",
     "output_type": "stream",
     "text": [
      "Strings: ('parth',)\n",
      "Numbers: ('1',)\n"
     ]
    }
   ],
   "source": [
    "def sep(*args):\n",
    "    str_list = []\n",
    "    num_list = []\n",
    "    for arg in args:\n",
    "        if isinstance(arg, str):\n",
    "            if arg.isalpha():\n",
    "                str_list.append(arg)\n",
    "            elif arg.isdigit():\n",
    "                num_list.append(arg)\n",
    "    return tuple(str_list), tuple(num_list)\n",
    "\n",
    "user_input = input(\"Enter input with comma for separation: \")\n",
    "my_list = [x.strip() for x in user_input.split(\",\")]\n",
    "result = sep(*my_list)\n",
    "print(\"Strings:\", result[0])\n",
    "print(\"Numbers:\", result[1])\n"
   ]
  },
  {
   "cell_type": "code",
   "execution_count": null,
   "id": "218a9ac4",
   "metadata": {},
   "outputs": [],
   "source": []
  }
 ],
 "metadata": {
  "kernelspec": {
   "display_name": "parth",
   "language": "python",
   "name": "python3"
  },
  "language_info": {
   "codemirror_mode": {
    "name": "ipython",
    "version": 3
   },
   "file_extension": ".py",
   "mimetype": "text/x-python",
   "name": "python",
   "nbconvert_exporter": "python",
   "pygments_lexer": "ipython3",
   "version": "3.13.3"
  }
 },
 "nbformat": 4,
 "nbformat_minor": 5
}
