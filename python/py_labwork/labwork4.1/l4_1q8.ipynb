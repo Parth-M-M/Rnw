{
 "cells": [
  {
   "cell_type": "code",
   "execution_count": 3,
   "id": "bcb702ef",
   "metadata": {},
   "outputs": [
    {
     "name": "stdout",
     "output_type": "stream",
     "text": [
      "Integers: [1, 2, 3]\n",
      "Strings: ['part', 'mangroliya', 'i', 'linve', '']\n"
     ]
    },
    {
     "data": {
      "text/plain": [
       "'Separation complete!'"
      ]
     },
     "execution_count": 3,
     "metadata": {},
     "output_type": "execute_result"
    }
   ],
   "source": [
    "def sep(*args):\n",
    "    my_string = []\n",
    "    my_int = []\n",
    "    for item in args:\n",
    "        if item.strip().isdigit():\n",
    "            my_int.append(int(item))\n",
    "        else:\n",
    "            my_string.append(item.strip())\n",
    "    print(\"Integers:\", my_int)\n",
    "    print(\"Strings:\", my_string)\n",
    "    return \"Separation complete!\"\n",
    "\n",
    "User_input = input(\"Enter your input in a single line separated by commas: \")\n",
    "User_list = [x for x in User_input.split(\",\")]\n",
    "sep(*User_list)\n"
   ]
  },
  {
   "cell_type": "code",
   "execution_count": null,
   "id": "217b76f1",
   "metadata": {},
   "outputs": [],
   "source": []
  }
 ],
 "metadata": {
  "kernelspec": {
   "display_name": "parth",
   "language": "python",
   "name": "python3"
  },
  "language_info": {
   "codemirror_mode": {
    "name": "ipython",
    "version": 3
   },
   "file_extension": ".py",
   "mimetype": "text/x-python",
   "name": "python",
   "nbconvert_exporter": "python",
   "pygments_lexer": "ipython3",
   "version": "3.13.3"
  }
 },
 "nbformat": 4,
 "nbformat_minor": 5
}
