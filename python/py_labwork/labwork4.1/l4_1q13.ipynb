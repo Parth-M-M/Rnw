{
 "cells": [
  {
   "cell_type": "code",
   "execution_count": 1,
   "id": "a4d6ba36",
   "metadata": {},
   "outputs": [
    {
     "name": "stdout",
     "output_type": "stream",
     "text": [
      "Fibonacci sequence up to 5 is: [0, 1, 1, 2, 3, 5]\n"
     ]
    }
   ],
   "source": [
    "def generate_fibonacci(limit):\n",
    "    \"\"\"\n",
    "    Generates the Fibonacci sequence up to a given number.\n",
    "\n",
    "    The Fibonacci sequence is a series of numbers in which each number \n",
    "    (after the first two) is the sum of the two preceding ones. \n",
    "    The sequence starts with 0 and 1 by default.\n",
    "\n",
    "    Parameters:\n",
    "    -----------\n",
    "    limit : int\n",
    "        The upper bound for the Fibonacci sequence. The function generates \n",
    "        all Fibonacci numbers less than or equal to this limit.\n",
    "\n",
    "    Returns:\n",
    "    --------\n",
    "    list\n",
    "        A list containing the Fibonacci sequence up to the given limit.\n",
    "\n",
    "    Example:\n",
    "    --------\n",
    "    >>> generate_fibonacci(10)\n",
    "    [0, 1, 1, 2, 3, 5, 8]\n",
    "    \"\"\"\n",
    "    if limit < 0:\n",
    "        return []\n",
    "\n",
    "    fib_sequence = [0, 1]\n",
    "    while fib_sequence[-1] + fib_sequence[-2] <= limit:\n",
    "        fib_sequence.append(fib_sequence[-1] + fib_sequence[-2])\n",
    "    \n",
    "    return [num for num in fib_sequence if num <= limit]\n",
    "\n",
    "num = int(input(\"Enter a number to generate Fibonacci sequence up to: \"))\n",
    "result = generate_fibonacci(num)\n",
    "print(\"Fibonacci sequence up to\", num, \"is:\", result)\n"
   ]
  },
  {
   "cell_type": "code",
   "execution_count": null,
   "id": "ed4755e8",
   "metadata": {},
   "outputs": [],
   "source": []
  }
 ],
 "metadata": {
  "kernelspec": {
   "display_name": "parth",
   "language": "python",
   "name": "python3"
  },
  "language_info": {
   "codemirror_mode": {
    "name": "ipython",
    "version": 3
   },
   "file_extension": ".py",
   "mimetype": "text/x-python",
   "name": "python",
   "nbconvert_exporter": "python",
   "pygments_lexer": "ipython3",
   "version": "3.13.3"
  }
 },
 "nbformat": 4,
 "nbformat_minor": 5
}
