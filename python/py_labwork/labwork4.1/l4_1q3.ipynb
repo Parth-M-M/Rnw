{
 "cells": [
  {
   "cell_type": "code",
   "execution_count": 2,
   "id": "79cf845f",
   "metadata": {},
   "outputs": [
    {
     "name": "stdout",
     "output_type": "stream",
     "text": [
      "[1, 4, 9, 16, 25, 36, 49, 64, 81]\n"
     ]
    }
   ],
   "source": [
    "def square(*num):\n",
    "    my_list = []\n",
    "    for i in num:\n",
    "        sqr = i * i\n",
    "        my_list.append(sqr)\n",
    "    print(my_list)\n",
    "\n",
    "user_input = input(\"Enter numbers separated by commas: \")\n",
    "my_num = [int(x) for x in user_input.split(\",\")] \n",
    "\n",
    "square(*my_num) \n"
   ]
  },
  {
   "cell_type": "code",
   "execution_count": null,
   "id": "e652b576",
   "metadata": {},
   "outputs": [],
   "source": []
  }
 ],
 "metadata": {
  "kernelspec": {
   "display_name": "parth",
   "language": "python",
   "name": "python3"
  },
  "language_info": {
   "codemirror_mode": {
    "name": "ipython",
    "version": 3
   },
   "file_extension": ".py",
   "mimetype": "text/x-python",
   "name": "python",
   "nbconvert_exporter": "python",
   "pygments_lexer": "ipython3",
   "version": "3.13.3"
  }
 },
 "nbformat": 4,
 "nbformat_minor": 5
}
