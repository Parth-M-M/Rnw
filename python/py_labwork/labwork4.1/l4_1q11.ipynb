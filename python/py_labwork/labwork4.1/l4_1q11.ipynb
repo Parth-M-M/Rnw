{
 "cells": [
  {
   "cell_type": "code",
   "execution_count": 1,
   "id": "19d39224",
   "metadata": {},
   "outputs": [
    {
     "name": "stdout",
     "output_type": "stream",
     "text": [
      "Employee created successfully with the following details:\n",
      "Name: Alice\n",
      "Department: HR\n",
      "Salary: 50000\n",
      "\n",
      "\n",
      "Missing required fields: salary\n"
     ]
    }
   ],
   "source": [
    "def create_employee(**kwargs):\n",
    "    required_fields = ['name', 'department', 'salary']\n",
    "    missing_fields = [field for field in required_fields if field not in kwargs]\n",
    "\n",
    "    if missing_fields:\n",
    "        print(f\"Missing required fields: {', '.join(missing_fields)}\")\n",
    "    else:\n",
    "        print(\"Employee created successfully with the following details:\")\n",
    "        for key, value in kwargs.items():\n",
    "            print(f\"{key.capitalize()}: {value}\")\n",
    "\n",
    "\n",
    "create_employee(name=\"Alice\", department=\"HR\", salary=50000)\n",
    "\n",
    "print(\"\\n\")\n",
    "\n",
    "\n",
    "create_employee(name=\"Bob\", department=\"IT\")\n"
   ]
  },
  {
   "cell_type": "code",
   "execution_count": null,
   "id": "1602317c",
   "metadata": {},
   "outputs": [],
   "source": []
  }
 ],
 "metadata": {
  "kernelspec": {
   "display_name": "parth",
   "language": "python",
   "name": "python3"
  },
  "language_info": {
   "codemirror_mode": {
    "name": "ipython",
    "version": 3
   },
   "file_extension": ".py",
   "mimetype": "text/x-python",
   "name": "python",
   "nbconvert_exporter": "python",
   "pygments_lexer": "ipython3",
   "version": "3.13.3"
  }
 },
 "nbformat": 4,
 "nbformat_minor": 5
}
