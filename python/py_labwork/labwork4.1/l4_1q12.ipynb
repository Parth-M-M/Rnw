{
 "cells": [
  {
   "cell_type": "code",
   "execution_count": 2,
   "id": "d3a57890",
   "metadata": {},
   "outputs": [
    {
     "name": "stdout",
     "output_type": "stream",
     "text": [
      "\n",
      "Calculate the area of a rectangle.\n",
      "\n",
      "Parameters:\n",
      "length (float): The length of the rectangle.\n",
      "width (float): The width of the rectangle.\n",
      "\n",
      "Returns:\n",
      "float: The area of the rectangle calculated as length * width.\n",
      "\n"
     ]
    }
   ],
   "source": [
    "def recarea(length, width):\n",
    "    \"\"\"\n",
    "    Calculate the area of a rectangle.\n",
    "\n",
    "    Parameters:\n",
    "    length (float): The length of the rectangle.\n",
    "    width (float): The width of the rectangle.\n",
    "\n",
    "    Returns:\n",
    "    float: The area of the rectangle calculated as length * width.\n",
    "    \"\"\"\n",
    "    return length * width\n",
    "\n",
    "\n",
    "print(recarea.__doc__)\n"
   ]
  },
  {
   "cell_type": "code",
   "execution_count": null,
   "id": "03be5c31",
   "metadata": {},
   "outputs": [],
   "source": []
  }
 ],
 "metadata": {
  "kernelspec": {
   "display_name": "parth",
   "language": "python",
   "name": "python3"
  },
  "language_info": {
   "codemirror_mode": {
    "name": "ipython",
    "version": 3
   },
   "file_extension": ".py",
   "mimetype": "text/x-python",
   "name": "python",
   "nbconvert_exporter": "python",
   "pygments_lexer": "ipython3",
   "version": "3.13.3"
  }
 },
 "nbformat": 4,
 "nbformat_minor": 5
}
