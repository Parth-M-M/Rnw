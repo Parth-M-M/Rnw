{
 "cells": [
  {
   "cell_type": "code",
   "execution_count": 4,
   "id": "70647023",
   "metadata": {},
   "outputs": [
    {
     "name": "stdout",
     "output_type": "stream",
     "text": [
      "Character frequencies:\n",
      "p: 1\n",
      "a: 3\n",
      "r: 2\n",
      "t: 1\n",
      "h: 1\n",
      " : 1\n",
      "m: 1\n",
      "n: 1\n",
      "g: 1\n",
      "o: 1\n",
      "l: 1\n",
      "i: 1\n",
      "y: 1\n",
      "{'p': 1, 'a': 3, 'r': 2, 't': 1, 'h': 1, ' ': 1, 'm': 1, 'n': 1, 'g': 1, 'o': 1, 'l': 1, 'i': 1, 'y': 1}\n"
     ]
    }
   ],
   "source": [
    "def counter(*word):\n",
    "    \n",
    "    my_dic = {}\n",
    "\n",
    "    for char in word[0]:\n",
    "        if char in my_dic:\n",
    "            my_dic[char] += 1\n",
    "        else:\n",
    "            my_dic[char] = 1\n",
    "\n",
    "    print(\"Character frequencies:\")\n",
    "    for key, value in my_dic.items():\n",
    "        print(f\"{key}: {value}\")\n",
    "    return my_dic\n",
    "\n",
    "user_input = input(\"Enter String: \")\n",
    "user_output = counter(user_input)\n",
    "print(user_output)\n"
   ]
  },
  {
   "cell_type": "code",
   "execution_count": null,
   "id": "5f145bd4",
   "metadata": {},
   "outputs": [],
   "source": []
  },
  {
   "cell_type": "code",
   "execution_count": null,
   "id": "67a1f305",
   "metadata": {},
   "outputs": [],
   "source": []
  },
  {
   "cell_type": "code",
   "execution_count": null,
   "id": "9227c7e0",
   "metadata": {},
   "outputs": [],
   "source": []
  },
  {
   "cell_type": "code",
   "execution_count": null,
   "id": "97dc2791",
   "metadata": {},
   "outputs": [],
   "source": []
  }
 ],
 "metadata": {
  "kernelspec": {
   "display_name": "parth",
   "language": "python",
   "name": "python3"
  },
  "language_info": {
   "codemirror_mode": {
    "name": "ipython",
    "version": 3
   },
   "file_extension": ".py",
   "mimetype": "text/x-python",
   "name": "python",
   "nbconvert_exporter": "python",
   "pygments_lexer": "ipython3",
   "version": "3.13.3"
  }
 },
 "nbformat": 4,
 "nbformat_minor": 5
}
