{
 "cells": [
  {
   "cell_type": "code",
   "execution_count": 4,
   "id": "a72a087a",
   "metadata": {},
   "outputs": [
    {
     "data": {
      "text/plain": [
       "[45, 362880]"
      ]
     },
     "execution_count": 4,
     "metadata": {},
     "output_type": "execute_result"
    }
   ],
   "source": [
    "def sum_and_product(*args):\n",
    "    t_sum = sum(args)\n",
    "    t_product = 1 \n",
    "    for num in args:\n",
    "        t_product *= num \n",
    "    my_list = [t_sum,t_product]\n",
    "    return my_list\n",
    "\n",
    "user_input = (input(\"Enter numbers separated by commas:\"))\n",
    "my_num = [int(x) for x in user_input.split(\",\")]\n",
    "sum_and_product(*my_num)\n",
    "    "
   ]
  },
  {
   "cell_type": "code",
   "execution_count": null,
   "id": "4fab0b56",
   "metadata": {},
   "outputs": [],
   "source": []
  }
 ],
 "metadata": {
  "kernelspec": {
   "display_name": "parth",
   "language": "python",
   "name": "python3"
  },
  "language_info": {
   "codemirror_mode": {
    "name": "ipython",
    "version": 3
   },
   "file_extension": ".py",
   "mimetype": "text/x-python",
   "name": "python",
   "nbconvert_exporter": "python",
   "pygments_lexer": "ipython3",
   "version": "3.13.3"
  }
 },
 "nbformat": 4,
 "nbformat_minor": 5
}
