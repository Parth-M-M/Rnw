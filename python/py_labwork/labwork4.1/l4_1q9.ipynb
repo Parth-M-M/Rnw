{
 "cells": [
  {
   "cell_type": "code",
   "execution_count": 5,
   "id": "94e3fa58",
   "metadata": {},
   "outputs": [
    {
     "name": "stdout",
     "output_type": "stream",
     "text": [
      "Person Description:\n",
      "Name :  Parth\n",
      "Age :  22\n",
      "City :  surat\n"
     ]
    }
   ],
   "source": [
    "def describe_person(**kwargs):\n",
    "    print(\"Person Description:\")\n",
    "    for key, value in kwargs.items():\n",
    "        print(f\"{key.capitalize()}: {value}\")\n",
    "\n",
    "User_input = input(\"Enter Key and Value (Key = Value, separated by commas): \")\n",
    "my_dict = dict(x.strip().split(\"=\") for x in User_input.split(\",\"))\n",
    "describe_person(**my_dict)\n"
   ]
  },
  {
   "cell_type": "code",
   "execution_count": null,
   "id": "2cb49d3e",
   "metadata": {},
   "outputs": [],
   "source": []
  }
 ],
 "metadata": {
  "kernelspec": {
   "display_name": "parth",
   "language": "python",
   "name": "python3"
  },
  "language_info": {
   "codemirror_mode": {
    "name": "ipython",
    "version": 3
   },
   "file_extension": ".py",
   "mimetype": "text/x-python",
   "name": "python",
   "nbconvert_exporter": "python",
   "pygments_lexer": "ipython3",
   "version": "3.13.3"
  }
 },
 "nbformat": 4,
 "nbformat_minor": 5
}
