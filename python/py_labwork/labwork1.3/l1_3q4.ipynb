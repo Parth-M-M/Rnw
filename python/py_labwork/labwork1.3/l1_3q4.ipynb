{
 "cells": [
  {
   "cell_type": "code",
   "execution_count": 9,
   "id": "959f5e36",
   "metadata": {},
   "outputs": [],
   "source": [
    "my_integer = 10\n",
    "my_float = 10.5\n",
    "my_string = \"Hello, World!\"\n",
    "my_boolean = True\n",
    "my_list = [1, 2, 3, 4, 5]\n",
    "my_tuple = (10, 20, 30)\n",
    "my_dictionary = {\"name\": \"parth\", \"age\": 21}\n"
   ]
  },
  {
   "cell_type": "code",
   "execution_count": 10,
   "id": "48514187",
   "metadata": {},
   "outputs": [
    {
     "name": "stdout",
     "output_type": "stream",
     "text": [
      "Integer:\n",
      "10\n",
      "<class 'int'>\n",
      "140728787215560\n"
     ]
    }
   ],
   "source": [
    "print(\"Integer:\")\n",
    "print(my_integer)\n",
    "print(type(my_integer))\n",
    "print(id(my_integer))"
   ]
  },
  {
   "cell_type": "code",
   "execution_count": 11,
   "id": "22ed5973",
   "metadata": {},
   "outputs": [
    {
     "name": "stdout",
     "output_type": "stream",
     "text": [
      "Float:\n",
      "10.5\n",
      "<class 'float'>\n",
      "2488851465232\n"
     ]
    }
   ],
   "source": [
    "print(\"Float:\")\n",
    "print(my_float)\n",
    "print(type(my_float))\n",
    "print(id(my_float))"
   ]
  },
  {
   "cell_type": "code",
   "execution_count": 12,
   "id": "bf1d57f7",
   "metadata": {},
   "outputs": [
    {
     "name": "stdout",
     "output_type": "stream",
     "text": [
      "String:\n",
      "Hello, World!\n",
      "<class 'str'>\n",
      "2488851421040\n"
     ]
    }
   ],
   "source": [
    "print(\"String:\")\n",
    "print(my_string)\n",
    "print(type(my_string))\n",
    "print(id(my_string))"
   ]
  },
  {
   "cell_type": "code",
   "execution_count": 13,
   "id": "6facd822",
   "metadata": {},
   "outputs": [
    {
     "name": "stdout",
     "output_type": "stream",
     "text": [
      "Boolean:\n",
      "True\n",
      "<class 'bool'>\n",
      "140728786330032\n"
     ]
    }
   ],
   "source": [
    "print(\"Boolean:\")\n",
    "print(my_boolean)\n",
    "print(type(my_boolean))\n",
    "print(id(my_boolean))"
   ]
  },
  {
   "cell_type": "code",
   "execution_count": 14,
   "id": "15845472",
   "metadata": {},
   "outputs": [
    {
     "name": "stdout",
     "output_type": "stream",
     "text": [
      "List:\n",
      "[1, 2, 3, 4, 5]\n",
      "<class 'list'>\n",
      "2488851413696\n"
     ]
    }
   ],
   "source": [
    "print(\"List:\")\n",
    "print(my_list)\n",
    "print(type(my_list))\n",
    "print(id(my_list))"
   ]
  },
  {
   "cell_type": "code",
   "execution_count": 15,
   "id": "7babb5c5",
   "metadata": {},
   "outputs": [
    {
     "name": "stdout",
     "output_type": "stream",
     "text": [
      "Tuple:\n",
      "(10, 20, 30)\n",
      "<class 'tuple'>\n",
      "2488851507136\n"
     ]
    }
   ],
   "source": [
    "print(\"Tuple:\")\n",
    "print(my_tuple)\n",
    "print(type(my_tuple))\n",
    "print(id(my_tuple))"
   ]
  },
  {
   "cell_type": "code",
   "execution_count": 16,
   "id": "1a7bba4e",
   "metadata": {},
   "outputs": [
    {
     "name": "stdout",
     "output_type": "stream",
     "text": [
      "Dictionary:\n",
      "{'name': 'parth', 'age': 21}\n",
      "<class 'dict'>\n",
      "2488851671936\n"
     ]
    }
   ],
   "source": [
    "print(\"Dictionary:\")\n",
    "print(my_dictionary)\n",
    "print(type(my_dictionary))\n",
    "print(id(my_dictionary))"
   ]
  },
  {
   "cell_type": "code",
   "execution_count": null,
   "id": "c51c6c64",
   "metadata": {},
   "outputs": [],
   "source": []
  }
 ],
 "metadata": {
  "kernelspec": {
   "display_name": "parth",
   "language": "python",
   "name": "python3"
  },
  "language_info": {
   "codemirror_mode": {
    "name": "ipython",
    "version": 3
   },
   "file_extension": ".py",
   "mimetype": "text/x-python",
   "name": "python",
   "nbconvert_exporter": "python",
   "pygments_lexer": "ipython3",
   "version": "3.13.3"
  }
 },
 "nbformat": 4,
 "nbformat_minor": 5
}
