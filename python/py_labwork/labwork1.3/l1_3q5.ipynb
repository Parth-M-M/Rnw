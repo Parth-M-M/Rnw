{
 "cells": [
  {
   "cell_type": "code",
   "execution_count": 1,
   "id": "336d1dc2",
   "metadata": {},
   "outputs": [],
   "source": [
    "first_number = 5\n",
    "second_number = 5"
   ]
  },
  {
   "cell_type": "code",
   "execution_count": 3,
   "id": "05723896",
   "metadata": {},
   "outputs": [
    {
     "name": "stdout",
     "output_type": "stream",
     "text": [
      "140728787215400\n",
      "140728787215400\n"
     ]
    }
   ],
   "source": [
    "print(id(first_number))\n",
    "print(id(second_number))"
   ]
  },
  {
   "cell_type": "code",
   "execution_count": 4,
   "id": "cbf1524e",
   "metadata": {},
   "outputs": [],
   "source": [
    "second_number = 5.0"
   ]
  },
  {
   "cell_type": "code",
   "execution_count": 5,
   "id": "7512bcea",
   "metadata": {},
   "outputs": [
    {
     "name": "stdout",
     "output_type": "stream",
     "text": [
      "140728787215400\n",
      "2025217011376\n"
     ]
    }
   ],
   "source": [
    "print(id(first_number))\n",
    "print(id(second_number))"
   ]
  }
 ],
 "metadata": {
  "kernelspec": {
   "display_name": "parth",
   "language": "python",
   "name": "python3"
  },
  "language_info": {
   "codemirror_mode": {
    "name": "ipython",
    "version": 3
   },
   "file_extension": ".py",
   "mimetype": "text/x-python",
   "name": "python",
   "nbconvert_exporter": "python",
   "pygments_lexer": "ipython3",
   "version": "3.13.3"
  }
 },
 "nbformat": 4,
 "nbformat_minor": 5
}
