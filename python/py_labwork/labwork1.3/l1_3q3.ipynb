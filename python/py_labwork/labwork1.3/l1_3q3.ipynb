{
 "cells": [
  {
   "cell_type": "code",
   "execution_count": 1,
   "id": "21aee76f",
   "metadata": {},
   "outputs": [],
   "source": [
    "user_input = bool(input(\"Enter boolen input (true or false )\"))"
   ]
  },
  {
   "cell_type": "code",
   "execution_count": 2,
   "id": "a49d1eb8",
   "metadata": {},
   "outputs": [],
   "source": [
    "int_value = int(user_input)"
   ]
  },
  {
   "cell_type": "code",
   "execution_count": 3,
   "id": "a45da425",
   "metadata": {},
   "outputs": [],
   "source": [
    "str_value = str(user_input)"
   ]
  },
  {
   "cell_type": "code",
   "execution_count": 4,
   "id": "7d28ac0c",
   "metadata": {},
   "outputs": [
    {
     "name": "stdout",
     "output_type": "stream",
     "text": [
      "True\n"
     ]
    }
   ],
   "source": [
    "print(user_input)"
   ]
  },
  {
   "cell_type": "code",
   "execution_count": 5,
   "id": "639ff69b",
   "metadata": {},
   "outputs": [
    {
     "name": "stdout",
     "output_type": "stream",
     "text": [
      "1\n"
     ]
    }
   ],
   "source": [
    "print(int_value)"
   ]
  },
  {
   "cell_type": "code",
   "execution_count": 6,
   "id": "07cf20d8",
   "metadata": {},
   "outputs": [
    {
     "name": "stdout",
     "output_type": "stream",
     "text": [
      "True\n"
     ]
    }
   ],
   "source": [
    "print(str_value)"
   ]
  },
  {
   "cell_type": "code",
   "execution_count": null,
   "id": "dddd2b88",
   "metadata": {},
   "outputs": [],
   "source": []
  }
 ],
 "metadata": {
  "kernelspec": {
   "display_name": "parth",
   "language": "python",
   "name": "python3"
  },
  "language_info": {
   "codemirror_mode": {
    "name": "ipython",
    "version": 3
   },
   "file_extension": ".py",
   "mimetype": "text/x-python",
   "name": "python",
   "nbconvert_exporter": "python",
   "pygments_lexer": "ipython3",
   "version": "3.13.3"
  }
 },
 "nbformat": 4,
 "nbformat_minor": 5
}
