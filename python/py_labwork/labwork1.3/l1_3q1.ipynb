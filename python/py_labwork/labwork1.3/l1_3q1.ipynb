{
 "cells": [
  {
   "cell_type": "code",
   "execution_count": 6,
   "id": "35b57bc2",
   "metadata": {},
   "outputs": [],
   "source": [
    "user_input = input(\"Enter your int : \")"
   ]
  },
  {
   "cell_type": "code",
   "execution_count": 12,
   "id": "464e090d",
   "metadata": {},
   "outputs": [
    {
     "name": "stdout",
     "output_type": "stream",
     "text": [
      "10\n"
     ]
    }
   ],
   "source": [
    "int_value = int(user_input)\n",
    "print(int_value)"
   ]
  },
  {
   "cell_type": "code",
   "execution_count": 14,
   "id": "08543363",
   "metadata": {},
   "outputs": [
    {
     "name": "stdout",
     "output_type": "stream",
     "text": [
      "10\n"
     ]
    }
   ],
   "source": [
    "string_value = str(user_input)\n",
    "print(string_value)"
   ]
  },
  {
   "cell_type": "code",
   "execution_count": 16,
   "id": "128dd958",
   "metadata": {},
   "outputs": [
    {
     "name": "stdout",
     "output_type": "stream",
     "text": [
      "True\n"
     ]
    }
   ],
   "source": [
    "bool_value = bool(user_input)\n",
    "print(bool_value)"
   ]
  },
  {
   "cell_type": "code",
   "execution_count": 18,
   "id": "3f3c0a1e",
   "metadata": {},
   "outputs": [
    {
     "name": "stdout",
     "output_type": "stream",
     "text": [
      "10.0\n"
     ]
    }
   ],
   "source": [
    "float_value = float(user_input)\n",
    "print(float_value)"
   ]
  },
  {
   "cell_type": "code",
   "execution_count": null,
   "id": "14bdef21",
   "metadata": {},
   "outputs": [],
   "source": []
  }
 ],
 "metadata": {
  "kernelspec": {
   "display_name": "parth",
   "language": "python",
   "name": "python3"
  },
  "language_info": {
   "codemirror_mode": {
    "name": "ipython",
    "version": 3
   },
   "file_extension": ".py",
   "mimetype": "text/x-python",
   "name": "python",
   "nbconvert_exporter": "python",
   "pygments_lexer": "ipython3",
   "version": "3.13.3"
  }
 },
 "nbformat": 4,
 "nbformat_minor": 5
}
