{
 "cells": [
  {
   "cell_type": "code",
   "execution_count": 1,
   "id": "f10d7747",
   "metadata": {},
   "outputs": [],
   "source": [
    "user_input = float(input(\"Enter float : \"))"
   ]
  },
  {
   "cell_type": "code",
   "execution_count": 2,
   "id": "c1bee15b",
   "metadata": {},
   "outputs": [
    {
     "name": "stdout",
     "output_type": "stream",
     "text": [
      "23.234\n"
     ]
    }
   ],
   "source": [
    "print(user_input)"
   ]
  },
  {
   "cell_type": "code",
   "execution_count": 3,
   "id": "0b7f53a5",
   "metadata": {},
   "outputs": [],
   "source": [
    "int_value = int(user_input)"
   ]
  },
  {
   "cell_type": "code",
   "execution_count": 4,
   "id": "723724f3",
   "metadata": {},
   "outputs": [
    {
     "name": "stdout",
     "output_type": "stream",
     "text": [
      "23\n"
     ]
    }
   ],
   "source": [
    "print(int_value)"
   ]
  },
  {
   "cell_type": "code",
   "execution_count": 5,
   "id": "4daaa911",
   "metadata": {},
   "outputs": [
    {
     "name": "stdout",
     "output_type": "stream",
     "text": [
      " When converting from float to int, the decimal part is removed (not rounded).\n"
     ]
    }
   ],
   "source": [
    "print(\" When converting from float to int, the decimal part is removed (not rounded).\")"
   ]
  }
 ],
 "metadata": {
  "kernelspec": {
   "display_name": "parth",
   "language": "python",
   "name": "python3"
  },
  "language_info": {
   "codemirror_mode": {
    "name": "ipython",
    "version": 3
   },
   "file_extension": ".py",
   "mimetype": "text/x-python",
   "name": "python",
   "nbconvert_exporter": "python",
   "pygments_lexer": "ipython3",
   "version": "3.13.3"
  }
 },
 "nbformat": 4,
 "nbformat_minor": 5
}
