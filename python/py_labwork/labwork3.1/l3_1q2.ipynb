{
 "cells": [
  {
   "cell_type": "code",
   "execution_count": 1,
   "id": "7fdbac0e",
   "metadata": {},
   "outputs": [
    {
     "name": "stdout",
     "output_type": "stream",
     "text": [
      "The price of Apple is 5.5 dollars.\n"
     ]
    }
   ],
   "source": [
    "fruit = \"Apple\"\n",
    "price = 5.50\n",
    "\n",
    "print(f\"The price of {fruit} is {price} dollars.\")"
   ]
  },
  {
   "cell_type": "code",
   "execution_count": null,
   "id": "2f0f3770",
   "metadata": {},
   "outputs": [],
   "source": []
  }
 ],
 "metadata": {
  "kernelspec": {
   "display_name": "parth",
   "language": "python",
   "name": "python3"
  },
  "language_info": {
   "codemirror_mode": {
    "name": "ipython",
    "version": 3
   },
   "file_extension": ".py",
   "mimetype": "text/x-python",
   "name": "python",
   "nbconvert_exporter": "python",
   "pygments_lexer": "ipython3",
   "version": "3.13.3"
  }
 },
 "nbformat": 4,
 "nbformat_minor": 5
}
