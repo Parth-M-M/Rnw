{
 "cells": [
  {
   "cell_type": "code",
   "execution_count": 1,
   "id": "a0b9235f",
   "metadata": {},
   "outputs": [],
   "source": [
    "first_name = input(\"Enter First Name : \")"
   ]
  },
  {
   "cell_type": "code",
   "execution_count": 2,
   "id": "ef6cbf53",
   "metadata": {},
   "outputs": [],
   "source": [
    "Last_name = input(\"Enter Last Name : \")\n"
   ]
  },
  {
   "cell_type": "code",
   "execution_count": 4,
   "id": "f821e0fe",
   "metadata": {},
   "outputs": [
    {
     "name": "stdout",
     "output_type": "stream",
     "text": [
      "Hello , [Mangroliya], [Parth]!\n"
     ]
    }
   ],
   "source": [
    "print(f\"Hello , [{Last_name}], [{first_name}]!\")"
   ]
  },
  {
   "cell_type": "code",
   "execution_count": null,
   "id": "e1ade0bc",
   "metadata": {},
   "outputs": [],
   "source": []
  }
 ],
 "metadata": {
  "kernelspec": {
   "display_name": "parth",
   "language": "python",
   "name": "python3"
  },
  "language_info": {
   "codemirror_mode": {
    "name": "ipython",
    "version": 3
   },
   "file_extension": ".py",
   "mimetype": "text/x-python",
   "name": "python",
   "nbconvert_exporter": "python",
   "pygments_lexer": "ipython3",
   "version": "3.13.3"
  }
 },
 "nbformat": 4,
 "nbformat_minor": 5
}
