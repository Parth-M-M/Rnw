{
 "cells": [
  {
   "cell_type": "code",
   "execution_count": 1,
   "id": "ef1348b3",
   "metadata": {},
   "outputs": [],
   "source": [
    "word = input(\"Enter Word : \")"
   ]
  },
  {
   "cell_type": "code",
   "execution_count": 3,
   "id": "aab948f5",
   "metadata": {},
   "outputs": [
    {
     "data": {
      "text/plain": [
       "'PARTH'"
      ]
     },
     "execution_count": 3,
     "metadata": {},
     "output_type": "execute_result"
    }
   ],
   "source": [
    "word.upper()\n"
   ]
  },
  {
   "cell_type": "code",
   "execution_count": 4,
   "id": "ff184ff5",
   "metadata": {},
   "outputs": [
    {
     "data": {
      "text/plain": [
       "'parth'"
      ]
     },
     "execution_count": 4,
     "metadata": {},
     "output_type": "execute_result"
    }
   ],
   "source": [
    "word.lower()"
   ]
  },
  {
   "cell_type": "code",
   "execution_count": 5,
   "id": "0f2bf874",
   "metadata": {},
   "outputs": [
    {
     "data": {
      "text/plain": [
       "'Parth'"
      ]
     },
     "execution_count": 5,
     "metadata": {},
     "output_type": "execute_result"
    }
   ],
   "source": [
    "word.title()"
   ]
  },
  {
   "cell_type": "code",
   "execution_count": null,
   "id": "c620df29",
   "metadata": {},
   "outputs": [],
   "source": []
  }
 ],
 "metadata": {
  "kernelspec": {
   "display_name": "parth",
   "language": "python",
   "name": "python3"
  },
  "language_info": {
   "codemirror_mode": {
    "name": "ipython",
    "version": 3
   },
   "file_extension": ".py",
   "mimetype": "text/x-python",
   "name": "python",
   "nbconvert_exporter": "python",
   "pygments_lexer": "ipython3",
   "version": "3.13.3"
  }
 },
 "nbformat": 4,
 "nbformat_minor": 5
}
