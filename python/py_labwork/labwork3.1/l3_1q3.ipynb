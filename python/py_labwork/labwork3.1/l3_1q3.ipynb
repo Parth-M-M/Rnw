{
 "cells": [
  {
   "cell_type": "code",
   "execution_count": 12,
   "id": "738fff10",
   "metadata": {},
   "outputs": [
    {
     "data": {
      "text/plain": [
       "'lool'"
      ]
     },
     "execution_count": 12,
     "metadata": {},
     "output_type": "execute_result"
    }
   ],
   "source": [
    "word  = input(\"Enter Word : \")\n",
    "n = len(word)\n",
    "word"
   ]
  },
  {
   "cell_type": "code",
   "execution_count": 13,
   "id": "2c563c92",
   "metadata": {},
   "outputs": [
    {
     "data": {
      "text/plain": [
       "'lool'"
      ]
     },
     "execution_count": 13,
     "metadata": {},
     "output_type": "execute_result"
    }
   ],
   "source": [
    "rword =  word[::-1]\n",
    "rword"
   ]
  },
  {
   "cell_type": "code",
   "execution_count": 14,
   "id": "7f70bb2c",
   "metadata": {},
   "outputs": [
    {
     "name": "stdout",
     "output_type": "stream",
     "text": [
      "lool is palindrome\n"
     ]
    }
   ],
   "source": [
    "if(word == rword) :\n",
    "    print(f\"{word} is palindrome\")\n",
    "else :\n",
    "    print(f\"{word} in not palindrome\")"
   ]
  },
  {
   "cell_type": "code",
   "execution_count": null,
   "id": "1fadcf66",
   "metadata": {},
   "outputs": [],
   "source": []
  }
 ],
 "metadata": {
  "kernelspec": {
   "display_name": "parth",
   "language": "python",
   "name": "python3"
  },
  "language_info": {
   "codemirror_mode": {
    "name": "ipython",
    "version": 3
   },
   "file_extension": ".py",
   "mimetype": "text/x-python",
   "name": "python",
   "nbconvert_exporter": "python",
   "pygments_lexer": "ipython3",
   "version": "3.13.3"
  }
 },
 "nbformat": 4,
 "nbformat_minor": 5
}
