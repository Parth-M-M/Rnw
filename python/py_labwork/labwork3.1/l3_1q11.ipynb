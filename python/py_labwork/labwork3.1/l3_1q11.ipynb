{
 "cells": [
  {
   "cell_type": "code",
   "execution_count": 1,
   "id": "c942fb6c",
   "metadata": {},
   "outputs": [],
   "source": [
    "my_tupple = ([1,2],[3,4],[5,6])"
   ]
  },
  {
   "cell_type": "code",
   "execution_count": 2,
   "id": "e4248438",
   "metadata": {},
   "outputs": [],
   "source": [
    "my_tupple[0][0] = 3"
   ]
  },
  {
   "cell_type": "code",
   "execution_count": 3,
   "id": "6679c467",
   "metadata": {},
   "outputs": [
    {
     "data": {
      "text/plain": [
       "([3, 2], [3, 4], [5, 6])"
      ]
     },
     "execution_count": 3,
     "metadata": {},
     "output_type": "execute_result"
    }
   ],
   "source": [
    "my_tupple"
   ]
  },
  {
   "cell_type": "markdown",
   "id": "93219ba9",
   "metadata": {},
   "source": [
    "List in tupple is mutable ,not the entire tupple but only list element "
   ]
  }
 ],
 "metadata": {
  "kernelspec": {
   "display_name": "parth",
   "language": "python",
   "name": "python3"
  },
  "language_info": {
   "codemirror_mode": {
    "name": "ipython",
    "version": 3
   },
   "file_extension": ".py",
   "mimetype": "text/x-python",
   "name": "python",
   "nbconvert_exporter": "python",
   "pygments_lexer": "ipython3",
   "version": "3.13.3"
  }
 },
 "nbformat": 4,
 "nbformat_minor": 5
}
