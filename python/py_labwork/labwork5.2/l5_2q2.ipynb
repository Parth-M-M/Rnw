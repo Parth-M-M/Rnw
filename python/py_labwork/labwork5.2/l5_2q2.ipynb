{
 "cells": [
  {
   "cell_type": "code",
   "execution_count": null,
   "id": "42461fee",
   "metadata": {},
   "outputs": [
    {
     "name": "stdout",
     "output_type": "stream",
     "text": [
      "Headmaster Name: Mr. Sharma\n",
      "Teaches Subject: Mathematics\n",
      "Administrative Role: Discipline Incharge\n"
     ]
    }
   ],
   "source": [
    "class Teacher:\n",
    "    def __init__(self, subject):\n",
    "        self.subject = subject\n",
    "\n",
    "    def show_teacher_details(self):\n",
    "        print(f\"Teaches Subject: {self.subject}\")\n",
    "\n",
    "class Administrator:\n",
    "    def __init__(self, admin_role):\n",
    "        self.admin_role = admin_role\n",
    "\n",
    "    def show_admin_details(self):\n",
    "        print(f\"Administrative Role: {self.admin_role}\")\n",
    "\n",
    "class Headmaster(Teacher, Administrator):\n",
    "    def __init__(self, name, subject, admin_role):\n",
    "        Teacher.__init__(self, subject)\n",
    "        Administrator.__init__(self, admin_role)\n",
    "        self.name = name\n",
    "\n",
    "    def show_headmaster_details(self):\n",
    "        print(f\"Headmaster Name: {self.name}\")\n",
    "        self.show_teacher_details()\n",
    "        self.show_admin_details()\n",
    "\n",
    "hm = Headmaster(\"Mr. Sharma\", \"Mathematics\", \"Discipline Incharge\")\n",
    "hm.show_headmaster_details()\n"
   ]
  },
  {
   "cell_type": "code",
   "execution_count": null,
   "id": "4fb86802",
   "metadata": {},
   "outputs": [],
   "source": []
  },
  {
   "cell_type": "code",
   "execution_count": null,
   "id": "8cbcf5ed",
   "metadata": {},
   "outputs": [],
   "source": []
  }
 ],
 "metadata": {
  "kernelspec": {
   "display_name": "parth",
   "language": "python",
   "name": "python3"
  },
  "language_info": {
   "codemirror_mode": {
    "name": "ipython",
    "version": 3
   },
   "file_extension": ".py",
   "mimetype": "text/x-python",
   "name": "python",
   "nbconvert_exporter": "python",
   "pygments_lexer": "ipython3",
   "version": "3.13.3"
  }
 },
 "nbformat": 4,
 "nbformat_minor": 5
}
