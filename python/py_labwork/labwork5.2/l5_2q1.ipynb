{
 "cells": [
  {
   "cell_type": "code",
   "execution_count": null,
   "id": "f6794b23",
   "metadata": {},
   "outputs": [
    {
     "name": "stdout",
     "output_type": "stream",
     "text": [
      "This is a method in parent class \n"
     ]
    }
   ],
   "source": [
    "class parents :\n",
    "    def display(self):\n",
    "        print(\"This is a method in parent class \")\n",
    "\n",
    "class child(parents):\n",
    "    def display1(self):\n",
    "        print(\"This is a method in child class\")\n",
    "\n",
    "obj1 = child()\n",
    "\n",
    "obj1.display()\n"
   ]
  },
  {
   "cell_type": "code",
   "execution_count": null,
   "id": "7e2f6ec2",
   "metadata": {},
   "outputs": [],
   "source": []
  }
 ],
 "metadata": {
  "kernelspec": {
   "display_name": "parth",
   "language": "python",
   "name": "python3"
  },
  "language_info": {
   "codemirror_mode": {
    "name": "ipython",
    "version": 3
   },
   "file_extension": ".py",
   "mimetype": "text/x-python",
   "name": "python",
   "nbconvert_exporter": "python",
   "pygments_lexer": "ipython3",
   "version": "3.13.3"
  }
 },
 "nbformat": 4,
 "nbformat_minor": 5
}
