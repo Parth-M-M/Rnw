{
  "nbformat": 4,
  "nbformat_minor": 0,
  "metadata": {
    "colab": {
      "provenance": []
    },
    "kernelspec": {
      "name": "python3",
      "display_name": "Python 3"
    },
    "language_info": {
      "name": "python"
    }
  },
  "cells": [
    {
      "cell_type": "markdown",
      "source": [
        "#### **1. Introduction to NumPy**"
      ],
      "metadata": {
        "id": "nksqNEVUUkIG"
      }
    },
    {
      "cell_type": "markdown",
      "source": [
        "**Task 1**: Import the NumPy library and print its version."
      ],
      "metadata": {
        "id": "R2Hg3uxcUoV0"
      }
    },
    {
      "cell_type": "code",
      "source": [
        "! pip install numpy\n",
        "import numpy as np"
      ],
      "metadata": {
        "id": "jBDP51A_VOqt",
        "outputId": "cc104fda-ad00-434c-e998-eba712b6dccd",
        "colab": {
          "base_uri": "https://localhost:8080/"
        }
      },
      "execution_count": 4,
      "outputs": [
        {
          "output_type": "stream",
          "name": "stdout",
          "text": [
            "Requirement already satisfied: numpy in /usr/local/lib/python3.11/dist-packages (2.0.2)\n"
          ]
        }
      ]
    },
    {
      "cell_type": "markdown",
      "source": [
        "**Task 2**: Create a one-dimensional NumPy array of integers from 0 to 9 and print it."
      ],
      "metadata": {
        "id": "8GJdriQkUvAd"
      }
    },
    {
      "cell_type": "code",
      "source": [
        "a = np.array([0,1,2,3,4,5,6,7,8,9])\n",
        "print(a)\n"
      ],
      "metadata": {
        "id": "yrjhHTwLVZD1",
        "outputId": "b66ef710-4d4c-4ce5-9041-c97b4553b1ca",
        "colab": {
          "base_uri": "https://localhost:8080/"
        }
      },
      "execution_count": 5,
      "outputs": [
        {
          "output_type": "stream",
          "name": "stdout",
          "text": [
            "[0 1 2 3 4 5 6 7 8 9]\n"
          ]
        }
      ]
    },
    {
      "cell_type": "markdown",
      "source": [
        "**Task 3**: Generate a two-dimensional NumPy array with random values and print its shape and data type."
      ],
      "metadata": {
        "id": "M5QqzADUUw9d"
      }
    },
    {
      "cell_type": "code",
      "source": [
        "a1 = np.arange(16).reshape(8,2)\n",
        "print(a1)"
      ],
      "metadata": {
        "id": "panMWynYVZd9",
        "outputId": "cd3de074-e6df-4e1e-b4bb-66cc94d97505",
        "colab": {
          "base_uri": "https://localhost:8080/"
        }
      },
      "execution_count": 7,
      "outputs": [
        {
          "output_type": "stream",
          "name": "stdout",
          "text": [
            "[[ 0  1]\n",
            " [ 2  3]\n",
            " [ 4  5]\n",
            " [ 6  7]\n",
            " [ 8  9]\n",
            " [10 11]\n",
            " [12 13]\n",
            " [14 15]]\n"
          ]
        }
      ]
    },
    {
      "cell_type": "markdown",
      "source": [
        "**Task 4**: Create a NumPy array with 50 evenly spaced values between 0 and 10."
      ],
      "metadata": {
        "id": "EwBurIWiUy3s"
      }
    },
    {
      "cell_type": "code",
      "source": [
        "np.linspace(0,10,50,dtype=float)"
      ],
      "metadata": {
        "id": "vh7EZr1NVZyW",
        "outputId": "897bb68c-ce94-4582-e8b8-1196349c6f1a",
        "colab": {
          "base_uri": "https://localhost:8080/"
        }
      },
      "execution_count": 8,
      "outputs": [
        {
          "output_type": "execute_result",
          "data": {
            "text/plain": [
              "array([ 0.        ,  0.20408163,  0.40816327,  0.6122449 ,  0.81632653,\n",
              "        1.02040816,  1.2244898 ,  1.42857143,  1.63265306,  1.83673469,\n",
              "        2.04081633,  2.24489796,  2.44897959,  2.65306122,  2.85714286,\n",
              "        3.06122449,  3.26530612,  3.46938776,  3.67346939,  3.87755102,\n",
              "        4.08163265,  4.28571429,  4.48979592,  4.69387755,  4.89795918,\n",
              "        5.10204082,  5.30612245,  5.51020408,  5.71428571,  5.91836735,\n",
              "        6.12244898,  6.32653061,  6.53061224,  6.73469388,  6.93877551,\n",
              "        7.14285714,  7.34693878,  7.55102041,  7.75510204,  7.95918367,\n",
              "        8.16326531,  8.36734694,  8.57142857,  8.7755102 ,  8.97959184,\n",
              "        9.18367347,  9.3877551 ,  9.59183673,  9.79591837, 10.        ])"
            ]
          },
          "metadata": {},
          "execution_count": 8
        }
      ]
    },
    {
      "cell_type": "markdown",
      "source": [
        "**Task 5**: Write a program to demonstrate the difference between a Python list and a NumPy array by performing element-wise addition on both."
      ],
      "metadata": {
        "id": "rHzVOnP3U0OU"
      }
    },
    {
      "cell_type": "code",
      "source": [
        "a = [i for i in range(10000000)]\n",
        "b = [i for i in range(10000000,20000000)]\n",
        "\n",
        "c = []\n",
        "import time\n",
        "\n",
        "start = time.time()\n",
        "for i in range(len(a)):\n",
        "  c.append(a[i] + b[i])\n",
        "print(time.time()-start)"
      ],
      "metadata": {
        "id": "3Aol7c-HVaM1",
        "outputId": "55f1ea9e-8ca4-49d3-8ecd-dbe0e72bc9cc",
        "colab": {
          "base_uri": "https://localhost:8080/"
        }
      },
      "execution_count": 9,
      "outputs": [
        {
          "output_type": "stream",
          "name": "stdout",
          "text": [
            "2.478475332260132\n"
          ]
        }
      ]
    },
    {
      "cell_type": "code",
      "source": [
        "import time\n",
        "a = np.arange(10000000)\n",
        "b = np.arange(10000000,20000000)\n",
        "\n",
        "start = time.time()\n",
        "c = a + b\n",
        "print(time.time()-start)"
      ],
      "metadata": {
        "id": "IN_YiES7GuW_",
        "outputId": "c125ccd1-8dc4-4ad7-ba4e-ce68daf0635a",
        "colab": {
          "base_uri": "https://localhost:8080/"
        }
      },
      "execution_count": 10,
      "outputs": [
        {
          "output_type": "stream",
          "name": "stdout",
          "text": [
            "0.3684256076812744\n"
          ]
        }
      ]
    },
    {
      "cell_type": "markdown",
      "source": [
        "---"
      ],
      "metadata": {
        "id": "Zc-I33nTVnfF"
      }
    },
    {
      "cell_type": "markdown",
      "source": [
        "#### **2. Creation of NumPy Arrays**"
      ],
      "metadata": {
        "id": "BNBcEQGpU5A1"
      }
    },
    {
      "cell_type": "markdown",
      "source": [
        "**Task 6**: Create a NumPy array of all zeros with a shape of (3, 4)."
      ],
      "metadata": {
        "id": "8gwQ1XLTU6d0"
      }
    },
    {
      "cell_type": "code",
      "source": [
        "a1 = np.zeros((3,4))\n",
        "print(a1)"
      ],
      "metadata": {
        "id": "PX_xYoZ7VaqK",
        "outputId": "ca6b308e-b27a-43f7-a77e-10a7ee185283",
        "colab": {
          "base_uri": "https://localhost:8080/"
        }
      },
      "execution_count": 14,
      "outputs": [
        {
          "output_type": "stream",
          "name": "stdout",
          "text": [
            "[[0. 0. 0. 0.]\n",
            " [0. 0. 0. 0.]\n",
            " [0. 0. 0. 0.]]\n"
          ]
        }
      ]
    },
    {
      "cell_type": "markdown",
      "source": [
        "**Task 7**: Create a NumPy array of all ones with a shape of (2, 5) and a data type of float."
      ],
      "metadata": {
        "id": "j3c91l5wU8ic"
      }
    },
    {
      "cell_type": "code",
      "source": [
        "a1 = np.ones((2,5),dtype=float)\n",
        "print(a1)"
      ],
      "metadata": {
        "id": "r74xiEJiVa_h",
        "outputId": "648b7511-59ed-424e-e0e4-a0b75afdb198",
        "colab": {
          "base_uri": "https://localhost:8080/"
        }
      },
      "execution_count": 16,
      "outputs": [
        {
          "output_type": "stream",
          "name": "stdout",
          "text": [
            "[[1. 1. 1. 1. 1.]\n",
            " [1. 1. 1. 1. 1.]]\n"
          ]
        }
      ]
    },
    {
      "cell_type": "markdown",
      "source": [
        "**Task 8**: Use `arange()` to create a NumPy array containing numbers from 10 to 50 with a step of 5."
      ],
      "metadata": {
        "id": "Vda3CtySU9g8"
      }
    },
    {
      "cell_type": "code",
      "source": [
        "a1 = np.arange(10,50,5)\n",
        "print(a1)"
      ],
      "metadata": {
        "id": "xJP0cmb3VbOG",
        "outputId": "80353134-2736-4ffc-9573-db1df77ca8c7",
        "colab": {
          "base_uri": "https://localhost:8080/"
        }
      },
      "execution_count": 18,
      "outputs": [
        {
          "output_type": "stream",
          "name": "stdout",
          "text": [
            "[10 15 20 25 30 35 40 45]\n"
          ]
        }
      ]
    },
    {
      "cell_type": "markdown",
      "source": [
        "**Task 9**: Generate a 3x3 identity matrix using NumPy."
      ],
      "metadata": {
        "id": "U_S34YgxU-_O"
      }
    },
    {
      "cell_type": "code",
      "source": [
        "np.identity(3)"
      ],
      "metadata": {
        "id": "1o6mpHEpVbk9",
        "outputId": "b7c1f001-345b-491b-a7cb-f7832237e7f1",
        "colab": {
          "base_uri": "https://localhost:8080/"
        }
      },
      "execution_count": 23,
      "outputs": [
        {
          "output_type": "execute_result",
          "data": {
            "text/plain": [
              "array([[1., 0., 0.],\n",
              "       [0., 1., 0.],\n",
              "       [0., 0., 1.]])"
            ]
          },
          "metadata": {},
          "execution_count": 23
        }
      ]
    },
    {
      "cell_type": "markdown",
      "source": [
        "**Task 10**: Create a 4x4 array filled with random integers between 1 and 20."
      ],
      "metadata": {
        "id": "ZXumR58bVAGd"
      }
    },
    {
      "cell_type": "code",
      "source": [
        "a1 = np.random.randint(1,21,size=(4,4))\n",
        "print(a1)"
      ],
      "metadata": {
        "id": "h3sNqZkyVb5d",
        "outputId": "976f8e99-4966-4910-e223-576a9f15cd50",
        "colab": {
          "base_uri": "https://localhost:8080/"
        }
      },
      "execution_count": 28,
      "outputs": [
        {
          "output_type": "stream",
          "name": "stdout",
          "text": [
            "[[20  6  7 18]\n",
            " [19  6 18 13]\n",
            " [19  9 17  8]\n",
            " [19 17 15 12]]\n"
          ]
        }
      ]
    },
    {
      "cell_type": "markdown",
      "source": [
        "---"
      ],
      "metadata": {
        "id": "cjdCYJ5tVrF8"
      }
    },
    {
      "cell_type": "markdown",
      "source": [
        "#### **3. Indexing and Slicing of NumPy Arrays**"
      ],
      "metadata": {
        "id": "xqShZoxpVBkV"
      }
    },
    {
      "cell_type": "markdown",
      "source": [
        "**Task 11**: Create a 1D NumPy array with values ranging from 1 to 15. Slice the array to extract elements from index 3 to 8."
      ],
      "metadata": {
        "id": "h9qMzkDAVDj1"
      }
    },
    {
      "cell_type": "code",
      "source": [
        "a[3:9:]"
      ],
      "metadata": {
        "id": "YM5HyktfVcTO",
        "outputId": "3e784a6c-0bfb-4a2c-f2fd-0fab94407976",
        "colab": {
          "base_uri": "https://localhost:8080/"
        }
      },
      "execution_count": 30,
      "outputs": [
        {
          "output_type": "execute_result",
          "data": {
            "text/plain": [
              "array([3, 4, 5, 6, 7, 8])"
            ]
          },
          "metadata": {},
          "execution_count": 30
        }
      ]
    },
    {
      "cell_type": "markdown",
      "source": [
        "\n",
        "\n",
        "```\n",
        "# This is formatted as code\n",
        "```\n",
        "\n",
        "**Task 12**: Generate a 3x3 matrix with values ranging from 1 to 9. Retrieve the element at the second row and third column."
      ],
      "metadata": {
        "id": "Rq8a05TxVGC6"
      }
    },
    {
      "cell_type": "code",
      "source": [
        "a3 = np.arange(1, 10).reshape(3, 3)\n",
        "print(a3)\n",
        "a3[1,2]"
      ],
      "metadata": {
        "id": "oF-RO3FvVcsN",
        "outputId": "0b596b69-6cdd-4288-c827-142d26e9486c",
        "colab": {
          "base_uri": "https://localhost:8080/"
        }
      },
      "execution_count": 38,
      "outputs": [
        {
          "output_type": "stream",
          "name": "stdout",
          "text": [
            "[[1 2 3]\n",
            " [4 5 6]\n",
            " [7 8 9]]\n"
          ]
        },
        {
          "output_type": "execute_result",
          "data": {
            "text/plain": [
              "np.int64(6)"
            ]
          },
          "metadata": {},
          "execution_count": 38
        }
      ]
    },
    {
      "cell_type": "markdown",
      "source": [
        "**Task 13**: Slice a 4x4 array to extract the last two rows and the last two columns."
      ],
      "metadata": {
        "id": "Dbt2qGohVHK4"
      }
    },
    {
      "cell_type": "code",
      "source": [
        "a4 = np.arange(1,17).reshape(4,4)\n",
        "print(a4)\n",
        "a4[2::,2::]"
      ],
      "metadata": {
        "id": "ILAjBQtbVc9V",
        "outputId": "888a10c9-7a1c-4e18-a98d-dd7720d31483",
        "colab": {
          "base_uri": "https://localhost:8080/"
        }
      },
      "execution_count": 42,
      "outputs": [
        {
          "output_type": "stream",
          "name": "stdout",
          "text": [
            "[[ 1  2  3  4]\n",
            " [ 5  6  7  8]\n",
            " [ 9 10 11 12]\n",
            " [13 14 15 16]]\n"
          ]
        },
        {
          "output_type": "execute_result",
          "data": {
            "text/plain": [
              "array([[11, 12],\n",
              "       [15, 16]])"
            ]
          },
          "metadata": {},
          "execution_count": 42
        }
      ]
    },
    {
      "cell_type": "markdown",
      "source": [
        "**Task 14**: Create a 5x5 matrix of random integers between 10 and 50. Replace all elements in the first row with the value 100."
      ],
      "metadata": {
        "id": "1qGmKMc_VIMf"
      }
    },
    {
      "cell_type": "code",
      "source": [
        "a5 = np.arange(1,26).reshape(5,5)\n",
        "print(a5)\n",
        "a5[0] = 100\n",
        "print(a5)\n"
      ],
      "metadata": {
        "id": "tyAOaZIYVeP1",
        "outputId": "c6aa235b-6685-4ddb-9c12-28c22e9cefcc",
        "colab": {
          "base_uri": "https://localhost:8080/"
        }
      },
      "execution_count": 45,
      "outputs": [
        {
          "output_type": "stream",
          "name": "stdout",
          "text": [
            "[[ 1  2  3  4  5]\n",
            " [ 6  7  8  9 10]\n",
            " [11 12 13 14 15]\n",
            " [16 17 18 19 20]\n",
            " [21 22 23 24 25]]\n",
            "[[100 100 100 100 100]\n",
            " [  6   7   8   9  10]\n",
            " [ 11  12  13  14  15]\n",
            " [ 16  17  18  19  20]\n",
            " [ 21  22  23  24  25]]\n"
          ]
        }
      ]
    },
    {
      "cell_type": "markdown",
      "source": [
        "**Task 15**: Create a 1D NumPy array of 10 elements. Use boolean indexing to filter out all values greater than 5."
      ],
      "metadata": {
        "id": "y-zKtnzqVJWy"
      }
    },
    {
      "cell_type": "code",
      "source": [
        "a1 = np.arange(1,11)\n",
        "[a1 > 5]"
      ],
      "metadata": {
        "id": "nBn5cs_jVemV",
        "outputId": "a5f70d7f-71bb-4c5c-cceb-307f83db13eb",
        "colab": {
          "base_uri": "https://localhost:8080/"
        }
      },
      "execution_count": 48,
      "outputs": [
        {
          "output_type": "execute_result",
          "data": {
            "text/plain": [
              "[array([False, False, False, False, False,  True,  True,  True,  True,\n",
              "         True])]"
            ]
          },
          "metadata": {},
          "execution_count": 48
        }
      ]
    }
  ]
}