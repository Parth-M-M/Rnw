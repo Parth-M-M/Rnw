{
 "cells": [
  {
   "cell_type": "code",
   "execution_count": 10,
   "id": "6ad1644f",
   "metadata": {},
   "outputs": [
    {
     "name": "stdout",
     "output_type": "stream",
     "text": [
      "['i', 'am', 'parth']\n",
      "Vovels :['i', 'am']\n",
      "consonent : ['parth']\n"
     ]
    }
   ],
   "source": [
    "list1 = []\n",
    "list2 = []\n",
    "vowels = ['a', 'e', 'i', 'o', 'u', 'A', 'E', 'I', 'O', 'U']\n",
    "def sep(*args):\n",
    "    mylist = list(args)\n",
    "    for word in mylist :\n",
    "        if word[0] in vowels :\n",
    "            list1.append(word)\n",
    "        else :\n",
    "            list2.append(word)\n",
    "\n",
    "\n",
    "user_data = list(x for x in input(\"Enter Words seperated by space \").split(\" \"))\n",
    "sep(*user_data)\n",
    "print(user_data)\n",
    "print(f\"Vovels :{list1}\")\n",
    "print(f\"consonent : {list2}\")\n"
   ]
  },
  {
   "cell_type": "code",
   "execution_count": null,
   "id": "6dd64541",
   "metadata": {},
   "outputs": [],
   "source": []
  },
  {
   "cell_type": "code",
   "execution_count": null,
   "id": "cdf7b512",
   "metadata": {},
   "outputs": [],
   "source": []
  }
 ],
 "metadata": {
  "kernelspec": {
   "display_name": "parth",
   "language": "python",
   "name": "python3"
  },
  "language_info": {
   "codemirror_mode": {
    "name": "ipython",
    "version": 3
   },
   "file_extension": ".py",
   "mimetype": "text/x-python",
   "name": "python",
   "nbconvert_exporter": "python",
   "pygments_lexer": "ipython3",
   "version": "3.13.3"
  }
 },
 "nbformat": 4,
 "nbformat_minor": 5
}
