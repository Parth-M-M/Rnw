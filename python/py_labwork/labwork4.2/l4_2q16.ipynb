{
 "cells": [
  {
   "cell_type": "code",
   "execution_count": null,
   "id": "ca503617",
   "metadata": {},
   "outputs": [],
   "source": [
    "def mod(*args):\n",
    "    my_"
   ]
  }
 ],
 "metadata": {
  "language_info": {
   "name": "python"
  }
 },
 "nbformat": 4,
 "nbformat_minor": 5
}
