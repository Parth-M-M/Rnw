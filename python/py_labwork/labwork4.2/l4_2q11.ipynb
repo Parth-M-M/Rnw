{
 "cells": [
  {
   "cell_type": "code",
   "execution_count": 1,
   "id": "ea99b92e",
   "metadata": {},
   "outputs": [
    {
     "name": "stdout",
     "output_type": "stream",
     "text": [
      "Current username: DefaultUser\n",
      "Username has been updated to: parth\n",
      "Updated username: parth\n"
     ]
    }
   ],
   "source": [
    "username = \"DefaultUser\"\n",
    "\n",
    "def update_username():\n",
    "    global username \n",
    "    new_name = input(\"Enter the new username: \")\n",
    "    username = new_name\n",
    "    print(f\"Username has been updated to: {username}\")\n",
    "\n",
    "\n",
    "print(f\"Current username: {username}\")\n",
    "\n",
    "update_username()\n",
    "\n",
    "print(f\"Updated username: {username}\")\n"
   ]
  },
  {
   "cell_type": "code",
   "execution_count": null,
   "id": "04040848",
   "metadata": {},
   "outputs": [],
   "source": []
  }
 ],
 "metadata": {
  "kernelspec": {
   "display_name": "parth",
   "language": "python",
   "name": "python3"
  },
  "language_info": {
   "codemirror_mode": {
    "name": "ipython",
    "version": 3
   },
   "file_extension": ".py",
   "mimetype": "text/x-python",
   "name": "python",
   "nbconvert_exporter": "python",
   "pygments_lexer": "ipython3",
   "version": "3.13.3"
  }
 },
 "nbformat": 4,
 "nbformat_minor": 5
}
