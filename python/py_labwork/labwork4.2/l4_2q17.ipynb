{
 "cells": [
  {
   "cell_type": "code",
   "execution_count": 6,
   "id": "dc37e19d",
   "metadata": {},
   "outputs": [
    {
     "name": "stdout",
     "output_type": "stream",
     "text": [
      "Vowels: ['a', 'a', 'o', 'i', 'a']\n",
      "Non-Vowels: ['p', 'r', 't', 'h', 'm', 'n', 'g', 'r', 'l', 'y']\n"
     ]
    }
   ],
   "source": [
    "my_vowels = []\n",
    "my_non_vowels = []\n",
    "vowels = ['a', 'e', 'i', 'o', 'u', 'A', 'E', 'I', 'O', 'U']\n",
    "\n",
    "def sep(s):\n",
    "    for char in s:\n",
    "        if char in vowels:\n",
    "            my_vowels.append(char)\n",
    "        else:\n",
    "            my_non_vowels.append(char)\n",
    "\n",
    "userinput = input(\"Enter Word: \")\n",
    "sep(userinput)\n",
    "print(\"Vowels:\", my_vowels)\n",
    "print(\"Non-Vowels:\", my_non_vowels)\n"
   ]
  },
  {
   "cell_type": "code",
   "execution_count": null,
   "id": "d05042ad",
   "metadata": {},
   "outputs": [],
   "source": []
  }
 ],
 "metadata": {
  "kernelspec": {
   "display_name": "parth",
   "language": "python",
   "name": "python3"
  },
  "language_info": {
   "codemirror_mode": {
    "name": "ipython",
    "version": 3
   },
   "file_extension": ".py",
   "mimetype": "text/x-python",
   "name": "python",
   "nbconvert_exporter": "python",
   "pygments_lexer": "ipython3",
   "version": "3.13.3"
  }
 },
 "nbformat": 4,
 "nbformat_minor": 5
}
