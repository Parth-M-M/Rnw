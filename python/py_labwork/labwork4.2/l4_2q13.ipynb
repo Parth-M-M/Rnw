{
 "cells": [
  {
   "cell_type": "code",
   "execution_count": null,
   "id": "2fc6648c",
   "metadata": {},
   "outputs": [
    {
     "name": "stdout",
     "output_type": "stream",
     "text": [
      "40\n",
      "40\n"
     ]
    }
   ],
   "source": [
    "userdata = 50 \n",
    "\n",
    "def user_data():\n",
    "    global userdata \n",
    "    userdata = 40\n",
    "    print(userdata)\n",
    "\n",
    "    \n",
    "user_data()\n",
    "print(userdata)\n"
   ]
  },
  {
   "cell_type": "code",
   "execution_count": null,
   "id": "5b409abd",
   "metadata": {},
   "outputs": [],
   "source": []
  }
 ],
 "metadata": {
  "kernelspec": {
   "display_name": "parth",
   "language": "python",
   "name": "python3"
  },
  "language_info": {
   "codemirror_mode": {
    "name": "ipython",
    "version": 3
   },
   "file_extension": ".py",
   "mimetype": "text/x-python",
   "name": "python",
   "nbconvert_exporter": "python",
   "pygments_lexer": "ipython3",
   "version": "3.13.3"
  }
 },
 "nbformat": 4,
 "nbformat_minor": 5
}
