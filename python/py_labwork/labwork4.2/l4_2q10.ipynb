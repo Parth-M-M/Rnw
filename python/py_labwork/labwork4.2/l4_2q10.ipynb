{
 "cells": [
  {
   "cell_type": "code",
   "execution_count": 5,
   "id": "7527d69b",
   "metadata": {},
   "outputs": [
    {
     "name": "stdout",
     "output_type": "stream",
     "text": [
      "9\n",
      "45\n"
     ]
    }
   ],
   "source": [
    "total_num_input = 0\n",
    "total_num_sum = 0 \n",
    "def sum(*args):\n",
    "    global total_num_sum , total_num_input\n",
    "    for arg in args :\n",
    "        total_num_input += 1\n",
    "        total_num_sum += arg\n",
    "user_list = list(int(x) for x in input(\"Enter number seperated by space (\" \")\").split(\" \"))\n",
    "sum(*user_list)\n",
    "print(total_num_input)\n",
    "print(total_num_sum)"
   ]
  },
  {
   "cell_type": "code",
   "execution_count": null,
   "id": "8d5ed2b1",
   "metadata": {},
   "outputs": [],
   "source": []
  }
 ],
 "metadata": {
  "kernelspec": {
   "display_name": "parth",
   "language": "python",
   "name": "python3"
  },
  "language_info": {
   "codemirror_mode": {
    "name": "ipython",
    "version": 3
   },
   "file_extension": ".py",
   "mimetype": "text/x-python",
   "name": "python",
   "nbconvert_exporter": "python",
   "pygments_lexer": "ipython3",
   "version": "3.13.3"
  }
 },
 "nbformat": 4,
 "nbformat_minor": 5
}
