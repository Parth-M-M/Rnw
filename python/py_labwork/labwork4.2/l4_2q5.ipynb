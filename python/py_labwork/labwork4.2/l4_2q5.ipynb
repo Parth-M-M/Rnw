{
 "cells": [
  {
   "cell_type": "code",
   "execution_count": 4,
   "id": "78968482",
   "metadata": {},
   "outputs": [
    {
     "name": "stdout",
     "output_type": "stream",
     "text": [
      "Prime numbers between 10 and 90:\n",
      "11\n",
      "13\n",
      "17\n",
      "19\n",
      "23\n",
      "29\n",
      "31\n",
      "37\n",
      "41\n",
      "43\n",
      "47\n",
      "53\n",
      "59\n",
      "61\n",
      "67\n",
      "71\n",
      "73\n",
      "79\n",
      "83\n",
      "89\n"
     ]
    }
   ],
   "source": [
    "def is_prime(n, i=2):\n",
    "    if n < 2:\n",
    "        return False\n",
    "    if i * i > n:\n",
    "        return True\n",
    "    if n % i == 0:\n",
    "        return False\n",
    "    return is_prime(n, i + 1)\n",
    "\n",
    "def print_primes(start, end):\n",
    "    if start > end:\n",
    "        return\n",
    "    if is_prime(start):\n",
    "        print(start)\n",
    "    print_primes(start + 1, end)\n",
    "\n",
    "user_data = input(\"Enter start and end number with comma ( , )\")\n",
    "my_list = [ int(x) for x  in user_data.split(\",\")]\n",
    "print(f\"Prime numbers between {my_list[0]} and {my_list[1 ]}:\")\n",
    "print_primes(my_list[0], my_list[1])\n"
   ]
  },
  {
   "cell_type": "code",
   "execution_count": null,
   "id": "dae70bc4",
   "metadata": {},
   "outputs": [],
   "source": []
  }
 ],
 "metadata": {
  "kernelspec": {
   "display_name": "parth",
   "language": "python",
   "name": "python3"
  },
  "language_info": {
   "codemirror_mode": {
    "name": "ipython",
    "version": 3
   },
   "file_extension": ".py",
   "mimetype": "text/x-python",
   "name": "python",
   "nbconvert_exporter": "python",
   "pygments_lexer": "ipython3",
   "version": "3.13.3"
  }
 },
 "nbformat": 4,
 "nbformat_minor": 5
}
