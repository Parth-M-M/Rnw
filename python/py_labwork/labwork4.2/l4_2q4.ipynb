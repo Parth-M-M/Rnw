{
 "cells": [
  {
   "cell_type": "code",
   "execution_count": null,
   "id": "605ba80a",
   "metadata": {},
   "outputs": [
    {
     "name": "stdout",
     "output_type": "stream",
     "text": [
      "Single-digit sum: 2\n"
     ]
    }
   ],
   "source": [
    "def sum_to_single_digit(n):\n",
    "    if n < 10:\n",
    "        return n\n",
    "    digit_sum = sum(int(digit) for digit in str(n))\n",
    "    return sum_to_single_digit(digit_sum)\n",
    "\n",
    "number = 9875\n",
    "result = sum_to_single_digit(number)\n",
    "print(\"Single-digit sum:\", result)\n"
   ]
  },
  {
   "cell_type": "code",
   "execution_count": null,
   "id": "034540cf",
   "metadata": {},
   "outputs": [],
   "source": []
  }
 ],
 "metadata": {
  "kernelspec": {
   "display_name": "parth",
   "language": "python",
   "name": "python3"
  },
  "language_info": {
   "codemirror_mode": {
    "name": "ipython",
    "version": 3
   },
   "file_extension": ".py",
   "mimetype": "text/x-python",
   "name": "python",
   "nbconvert_exporter": "python",
   "pygments_lexer": "ipython3",
   "version": "3.13.3"
  }
 },
 "nbformat": 4,
 "nbformat_minor": 5
}
