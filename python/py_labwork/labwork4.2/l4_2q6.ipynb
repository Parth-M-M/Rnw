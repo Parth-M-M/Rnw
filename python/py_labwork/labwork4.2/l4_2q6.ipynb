{
 "cells": [
  {
   "cell_type": "code",
   "execution_count": 3,
   "id": "c431809f",
   "metadata": {},
   "outputs": [
    {
     "name": "stdout",
     "output_type": "stream",
     "text": [
      "[1, 4, 9, 16, 25, 36, 49, 64, 81]\n"
     ]
    }
   ],
   "source": [
    "\n",
    "def num_sq(*args) :\n",
    "\n",
    "    numbers_sq = list(map(lambda x : x ** 2 , numbers ))\n",
    "    return numbers_sq\n",
    "\n",
    "numbers = []\n",
    "numbers = [int(x) for x in input(\"Enter Number Seperated by (\" \")\").split(\" \")]\n",
    "print(num_sq(*numbers))\n"
   ]
  },
  {
   "cell_type": "code",
   "execution_count": null,
   "id": "2637cb25",
   "metadata": {},
   "outputs": [],
   "source": []
  }
 ],
 "metadata": {
  "kernelspec": {
   "display_name": "parth",
   "language": "python",
   "name": "python3"
  },
  "language_info": {
   "codemirror_mode": {
    "name": "ipython",
    "version": 3
   },
   "file_extension": ".py",
   "mimetype": "text/x-python",
   "name": "python",
   "nbconvert_exporter": "python",
   "pygments_lexer": "ipython3",
   "version": "3.13.3"
  }
 },
 "nbformat": 4,
 "nbformat_minor": 5
}
